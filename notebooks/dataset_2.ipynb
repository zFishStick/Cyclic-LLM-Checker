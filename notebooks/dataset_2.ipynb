{
 "cells": [
  {
   "cell_type": "markdown",
   "id": "adce37be",
   "metadata": {},
   "source": [
    "## Exploratory analysis of the [Getting Real about Fake News](https://www.kaggle.com/datasets/mrisdal/fake-news)"
   ]
  },
  {
   "cell_type": "code",
   "execution_count": null,
   "id": "ca38b97e",
   "metadata": {},
   "outputs": [
    {
     "name": "stdout",
     "output_type": "stream",
     "text": [
      "Path to dataset files: C:\\Users\\gabri\\.cache\\kagglehub\\datasets\\mrisdal\\fake-news\\versions\\1\n",
      "Files in dataset directory: ['fake.csv']\n",
      "First 5 records:\n",
      "                                       uuid  ord_in_thread  \\\n",
      "0  6a175f46bcd24d39b3e962ad0f29936721db70db              0   \n",
      "1  2bdc29d12605ef9cf3f09f9875040a7113be5d5b              0   \n",
      "2  c70e149fdd53de5e61c29281100b9de0ed268bc3              0   \n",
      "3  7cf7c15731ac2a116dd7f629bd57ea468ed70284              0   \n",
      "4  0206b54719c7e241ffe0ad4315b808290dbe6c0f              0   \n",
      "\n",
      "                 author                      published  \\\n",
      "0     Barracuda Brigade  2016-10-26T21:41:00.000+03:00   \n",
      "1  reasoning with facts  2016-10-29T08:47:11.259+03:00   \n",
      "2     Barracuda Brigade  2016-10-31T01:41:49.479+02:00   \n",
      "3                Fed Up  2016-11-01T05:22:00.000+02:00   \n",
      "4                Fed Up  2016-11-01T21:56:00.000+02:00   \n",
      "\n",
      "                                               title  \\\n",
      "0  Muslims BUSTED: They Stole Millions In Gov’t B...   \n",
      "1  Re: Why Did Attorney General Loretta Lynch Ple...   \n",
      "2  BREAKING: Weiner Cooperating With FBI On Hilla...   \n",
      "3  PIN DROP SPEECH BY FATHER OF DAUGHTER Kidnappe...   \n",
      "4  FANTASTIC! TRUMP'S 7 POINT PLAN To Reform Heal...   \n",
      "\n",
      "                                                text language  \\\n",
      "0  Print They should pay all the back all the mon...  english   \n",
      "1  Why Did Attorney General Loretta Lynch Plead T...  english   \n",
      "2  Red State : \\nFox News Sunday reported this mo...  english   \n",
      "3  Email Kayla Mueller was a prisoner and torture...  english   \n",
      "4  Email HEALTHCARE REFORM TO MAKE AMERICA GREAT ...  english   \n",
      "\n",
      "                         crawled             site_url country  domain_rank  \\\n",
      "0  2016-10-27T01:49:27.168+03:00  100percentfedup.com      US      25689.0   \n",
      "1  2016-10-29T08:47:11.259+03:00  100percentfedup.com      US      25689.0   \n",
      "2  2016-10-31T01:41:49.479+02:00  100percentfedup.com      US      25689.0   \n",
      "3  2016-11-01T15:46:26.304+02:00  100percentfedup.com      US      25689.0   \n",
      "4  2016-11-01T23:59:42.266+02:00  100percentfedup.com      US      25689.0   \n",
      "\n",
      "                                        thread_title  spam_score  \\\n",
      "0  Muslims BUSTED: They Stole Millions In Gov’t B...       0.000   \n",
      "1  Re: Why Did Attorney General Loretta Lynch Ple...       0.000   \n",
      "2  BREAKING: Weiner Cooperating With FBI On Hilla...       0.000   \n",
      "3  PIN DROP SPEECH BY FATHER OF DAUGHTER Kidnappe...       0.068   \n",
      "4  FANTASTIC! TRUMP'S 7 POINT PLAN To Reform Heal...       0.865   \n",
      "\n",
      "                                        main_img_url  replies_count  \\\n",
      "0  http://bb4sp.com/wp-content/uploads/2016/10/Fu...              0   \n",
      "1  http://bb4sp.com/wp-content/uploads/2016/10/Fu...              0   \n",
      "2  http://bb4sp.com/wp-content/uploads/2016/10/Fu...              0   \n",
      "3  http://100percentfedup.com/wp-content/uploads/...              0   \n",
      "4  http://100percentfedup.com/wp-content/uploads/...              0   \n",
      "\n",
      "   participants_count  likes  comments  shares  type  \n",
      "0                   1      0         0       0  bias  \n",
      "1                   1      0         0       0  bias  \n",
      "2                   1      0         0       0  bias  \n",
      "3                   0      0         0       0  bias  \n",
      "4                   0      0         0       0  bias  \n"
     ]
    }
   ],
   "source": [
    "import kagglehub\n",
    "from kagglehub import KaggleDatasetAdapter\n",
    "import pandas as pd\n",
    "import os\n",
    "\n",
    "path = kagglehub.dataset_download(\"mrisdal/fake-news\")\n",
    "print(\"Path to dataset files:\", path)\n",
    "\n",
    "print(\"Files in dataset directory:\", os.listdir(path))\n",
    "\n",
    "file_path = os.path.join(path, \"fake.csv\")\n",
    "\n",
    "df = pd.read_csv(file_path)\n",
    "\n",
    "print(\"First 5 records:\")\n",
    "print(df.head())\n"
   ]
  },
  {
   "cell_type": "markdown",
   "id": "878df807",
   "metadata": {},
   "source": [
    "### "
   ]
  }
 ],
 "metadata": {
  "kernelspec": {
   "display_name": "Python 3",
   "language": "python",
   "name": "python3"
  },
  "language_info": {
   "codemirror_mode": {
    "name": "ipython",
    "version": 3
   },
   "file_extension": ".py",
   "mimetype": "text/x-python",
   "name": "python",
   "nbconvert_exporter": "python",
   "pygments_lexer": "ipython3",
   "version": "3.12.2"
  }
 },
 "nbformat": 4,
 "nbformat_minor": 5
}
