{
 "cells": [
  {
   "cell_type": "markdown",
   "id": "5bfcee47",
   "metadata": {},
   "source": [
    "## Exploratory analysis of the [Fake News Dataset](https://www.kaggle.com/datasets/algord/fake-news)"
   ]
  },
  {
   "cell_type": "code",
   "execution_count": 32,
   "id": "4b05e150",
   "metadata": {},
   "outputs": [],
   "source": [
    "import pandas as pd\n",
    "\n",
    "# https://www.kaggle.com/datasets/algord/fake-news\n",
    "df = pd.read_csv(\"../datasets/FakeNewsNet.csv\", sep=\",\")"
   ]
  },
  {
   "cell_type": "markdown",
   "id": "0c693fa1",
   "metadata": {},
   "source": [
    "### Information about the dataset"
   ]
  },
  {
   "cell_type": "code",
   "execution_count": 33,
   "id": "8ee65256",
   "metadata": {},
   "outputs": [
    {
     "data": {
      "text/html": [
       "<div>\n",
       "<style scoped>\n",
       "    .dataframe tbody tr th:only-of-type {\n",
       "        vertical-align: middle;\n",
       "    }\n",
       "\n",
       "    .dataframe tbody tr th {\n",
       "        vertical-align: top;\n",
       "    }\n",
       "\n",
       "    .dataframe thead th {\n",
       "        text-align: right;\n",
       "    }\n",
       "</style>\n",
       "<table border=\"1\" class=\"dataframe\">\n",
       "  <thead>\n",
       "    <tr style=\"text-align: right;\">\n",
       "      <th></th>\n",
       "      <th>title</th>\n",
       "      <th>news_url</th>\n",
       "      <th>source_domain</th>\n",
       "      <th>tweet_num</th>\n",
       "      <th>real</th>\n",
       "    </tr>\n",
       "  </thead>\n",
       "  <tbody>\n",
       "    <tr>\n",
       "      <th>0</th>\n",
       "      <td>Kandi Burruss Explodes Over Rape Accusation on...</td>\n",
       "      <td>http://toofab.com/2017/05/08/real-housewives-a...</td>\n",
       "      <td>toofab.com</td>\n",
       "      <td>42</td>\n",
       "      <td>1</td>\n",
       "    </tr>\n",
       "    <tr>\n",
       "      <th>1</th>\n",
       "      <td>People's Choice Awards 2018: The best red carp...</td>\n",
       "      <td>https://www.today.com/style/see-people-s-choic...</td>\n",
       "      <td>www.today.com</td>\n",
       "      <td>0</td>\n",
       "      <td>1</td>\n",
       "    </tr>\n",
       "    <tr>\n",
       "      <th>2</th>\n",
       "      <td>Sophia Bush Sends Sweet Birthday Message to 'O...</td>\n",
       "      <td>https://www.etonline.com/news/220806_sophia_bu...</td>\n",
       "      <td>www.etonline.com</td>\n",
       "      <td>63</td>\n",
       "      <td>1</td>\n",
       "    </tr>\n",
       "    <tr>\n",
       "      <th>3</th>\n",
       "      <td>Colombian singer Maluma sparks rumours of inap...</td>\n",
       "      <td>https://www.dailymail.co.uk/news/article-33655...</td>\n",
       "      <td>www.dailymail.co.uk</td>\n",
       "      <td>20</td>\n",
       "      <td>1</td>\n",
       "    </tr>\n",
       "    <tr>\n",
       "      <th>4</th>\n",
       "      <td>Gossip Girl 10 Years Later: How Upper East Sid...</td>\n",
       "      <td>https://www.zerchoo.com/entertainment/gossip-g...</td>\n",
       "      <td>www.zerchoo.com</td>\n",
       "      <td>38</td>\n",
       "      <td>1</td>\n",
       "    </tr>\n",
       "  </tbody>\n",
       "</table>\n",
       "</div>"
      ],
      "text/plain": [
       "                                               title  \\\n",
       "0  Kandi Burruss Explodes Over Rape Accusation on...   \n",
       "1  People's Choice Awards 2018: The best red carp...   \n",
       "2  Sophia Bush Sends Sweet Birthday Message to 'O...   \n",
       "3  Colombian singer Maluma sparks rumours of inap...   \n",
       "4  Gossip Girl 10 Years Later: How Upper East Sid...   \n",
       "\n",
       "                                            news_url        source_domain  \\\n",
       "0  http://toofab.com/2017/05/08/real-housewives-a...           toofab.com   \n",
       "1  https://www.today.com/style/see-people-s-choic...        www.today.com   \n",
       "2  https://www.etonline.com/news/220806_sophia_bu...     www.etonline.com   \n",
       "3  https://www.dailymail.co.uk/news/article-33655...  www.dailymail.co.uk   \n",
       "4  https://www.zerchoo.com/entertainment/gossip-g...      www.zerchoo.com   \n",
       "\n",
       "   tweet_num  real  \n",
       "0         42     1  \n",
       "1          0     1  \n",
       "2         63     1  \n",
       "3         20     1  \n",
       "4         38     1  "
      ]
     },
     "execution_count": 33,
     "metadata": {},
     "output_type": "execute_result"
    }
   ],
   "source": [
    "df.head(5)"
   ]
  },
  {
   "cell_type": "code",
   "execution_count": 34,
   "id": "cb865a9e",
   "metadata": {},
   "outputs": [
    {
     "data": {
      "text/plain": [
       "title            object\n",
       "news_url         object\n",
       "source_domain    object\n",
       "tweet_num         int64\n",
       "real              int64\n",
       "dtype: object"
      ]
     },
     "execution_count": 34,
     "metadata": {},
     "output_type": "execute_result"
    }
   ],
   "source": [
    "df.dtypes"
   ]
  },
  {
   "cell_type": "code",
   "execution_count": 35,
   "id": "5ebabb54",
   "metadata": {},
   "outputs": [
    {
     "name": "stdout",
     "output_type": "stream",
     "text": [
      "Size: (23196, 5)\n"
     ]
    }
   ],
   "source": [
    "print(\"Size:\", df.shape)"
   ]
  },
  {
   "cell_type": "markdown",
   "id": "4eecbf19",
   "metadata": {},
   "source": [
    "### Columns description in the dataset"
   ]
  },
  {
   "cell_type": "code",
   "execution_count": 36,
   "id": "9db46611",
   "metadata": {},
   "outputs": [
    {
     "name": "stdout",
     "output_type": "stream",
     "text": [
      "Requirement already satisfied: Jinja2 in c:\\users\\tidia\\appdata\\local\\programs\\python\\python313\\lib\\site-packages (3.1.6)\n",
      "Requirement already satisfied: MarkupSafe>=2.0 in c:\\users\\tidia\\appdata\\local\\programs\\python\\python313\\lib\\site-packages (from Jinja2) (3.0.3)\n"
     ]
    },
    {
     "name": "stderr",
     "output_type": "stream",
     "text": [
      "\n",
      "[notice] A new release of pip is available: 25.1 -> 25.3\n",
      "[notice] To update, run: python.exe -m pip install --upgrade pip\n"
     ]
    },
    {
     "data": {
      "text/html": [
       "<style type=\"text/css\">\n",
       "#T_b4a06 th {\n",
       "  text-align: left;\n",
       "}\n",
       "#T_b4a06 td {\n",
       "  text-align: left;\n",
       "}\n",
       "</style>\n",
       "<table id=\"T_b4a06\">\n",
       "  <thead>\n",
       "    <tr>\n",
       "      <th class=\"blank level0\" >&nbsp;</th>\n",
       "      <th id=\"T_b4a06_level0_col0\" class=\"col_heading level0 col0\" >Column name</th>\n",
       "      <th id=\"T_b4a06_level0_col1\" class=\"col_heading level0 col1\" >Description</th>\n",
       "    </tr>\n",
       "  </thead>\n",
       "  <tbody>\n",
       "    <tr>\n",
       "      <th id=\"T_b4a06_level0_row0\" class=\"row_heading level0 row0\" >1</th>\n",
       "      <td id=\"T_b4a06_row0_col0\" class=\"data row0 col0\" >title</td>\n",
       "      <td id=\"T_b4a06_row0_col1\" class=\"data row0 col1\" >The title of the news article.</td>\n",
       "    </tr>\n",
       "    <tr>\n",
       "      <th id=\"T_b4a06_level0_row1\" class=\"row_heading level0 row1\" >2</th>\n",
       "      <td id=\"T_b4a06_row1_col0\" class=\"data row1 col0\" >news_url</td>\n",
       "      <td id=\"T_b4a06_row1_col1\" class=\"data row1 col1\" >The news URL of the article.</td>\n",
       "    </tr>\n",
       "    <tr>\n",
       "      <th id=\"T_b4a06_level0_row2\" class=\"row_heading level0 row2\" >3</th>\n",
       "      <td id=\"T_b4a06_row2_col0\" class=\"data row2 col0\" >source_domain</td>\n",
       "      <td id=\"T_b4a06_row2_col1\" class=\"data row2 col1\" >the website from which the news article originates.</td>\n",
       "    </tr>\n",
       "    <tr>\n",
       "      <th id=\"T_b4a06_level0_row3\" class=\"row_heading level0 row3\" >4</th>\n",
       "      <td id=\"T_b4a06_row3_col0\" class=\"data row3 col0\" >tweet_num</td>\n",
       "      <td id=\"T_b4a06_row3_col1\" class=\"data row3 col1\" >Number of retweets the news article has received.</td>\n",
       "    </tr>\n",
       "    <tr>\n",
       "      <th id=\"T_b4a06_level0_row4\" class=\"row_heading level0 row4\" >5</th>\n",
       "      <td id=\"T_b4a06_row4_col0\" class=\"data row4 col0\" >real</td>\n",
       "      <td id=\"T_b4a06_row4_col1\" class=\"data row4 col1\" >The label indicating whether the news article is real (1) or fake (0).</td>\n",
       "    </tr>\n",
       "  </tbody>\n",
       "</table>\n"
      ],
      "text/plain": [
       "<pandas.io.formats.style.Styler at 0x297a7b12c10>"
      ]
     },
     "execution_count": 36,
     "metadata": {},
     "output_type": "execute_result"
    }
   ],
   "source": [
    "!pip install Jinja2\n",
    "descriptions = [\n",
    "    \"The title of the news article.\",\n",
    "    \"The news URL of the article.\",\n",
    "    \"the website from which the news article originates.\",\n",
    "    \"Number of retweets the news article has received.\",\n",
    "    \"The label indicating whether the news article is real (1) or fake (0).\"\n",
    "]\n",
    "    \n",
    "df_description = pd.DataFrame({\n",
    "    \"Column name\": df.columns,\n",
    "    \"Description\": descriptions\n",
    "})\n",
    "\n",
    "df_description.index = df_description.index + 1  # Start index at 1\n",
    "\n",
    "df_description.style.set_table_styles([\n",
    "    {'selector': 'th',\n",
    "     'props': [('text-align', 'left')]},\n",
    "    {'selector': 'td',\n",
    "     'props': [('text-align', 'left')]}\n",
    "])"
   ]
  },
  {
   "cell_type": "markdown",
   "id": "fe868a69",
   "metadata": {},
   "source": [
    "### Deletion of duplicate rows"
   ]
  },
  {
   "cell_type": "markdown",
   "id": "207dcc2d",
   "metadata": {},
   "source": [
    "The datasets contains duplicated entries. We will remove them to avoid bias in the training and evaluation of the models.\n",
    "We need to consider that the column ```news_url``` is unique for each row, so we will not consider it when looking for duplicates."
   ]
  },
  {
   "cell_type": "code",
   "execution_count": 24,
   "id": "5ff8ae53",
   "metadata": {},
   "outputs": [
    {
     "name": "stdout",
     "output_type": "stream",
     "text": [
      "Number of duplicate rows: 169\n",
      "Size before removing duplicates: (23196, 5)\n"
     ]
    }
   ],
   "source": [
    "duplicate_row_df = df[df.duplicated(subset=df.columns.difference(['news_url']))]\n",
    "print(\"Number of duplicate rows:\", duplicate_row_df.shape[0])\n",
    "print(\"Size before removing duplicates:\", df.shape)"
   ]
  },
  {
   "cell_type": "markdown",
   "id": "c7a2e160",
   "metadata": {},
   "source": [
    "The dataset contains 169 duplicate rows. We will remove them now."
   ]
  },
  {
   "cell_type": "code",
   "execution_count": 25,
   "id": "d2ef6cda",
   "metadata": {},
   "outputs": [
    {
     "name": "stdout",
     "output_type": "stream",
     "text": [
      "Size after removing duplicates: (23027, 5)\n"
     ]
    }
   ],
   "source": [
    "df = df.drop_duplicates(subset=df.columns.difference(['news_url']))\n",
    "print(\"Size after removing duplicates:\", df.shape)"
   ]
  },
  {
   "cell_type": "markdown",
   "id": "6e022bf1",
   "metadata": {},
   "source": [
    "### Check for missing values in the dataset"
   ]
  },
  {
   "cell_type": "markdown",
   "id": "c82c0c47",
   "metadata": {},
   "source": [
    "Let's check if there are any missing values in the dataset."
   ]
  },
  {
   "cell_type": "code",
   "execution_count": 26,
   "id": "ce083b14",
   "metadata": {},
   "outputs": [
    {
     "name": "stdout",
     "output_type": "stream",
     "text": [
      "title              0\n",
      "news_url         329\n",
      "source_domain    329\n",
      "tweet_num          0\n",
      "real               0\n",
      "dtype: int64\n"
     ]
    }
   ],
   "source": [
    "print(df.isnull().sum())"
   ]
  },
  {
   "cell_type": "code",
   "execution_count": 28,
   "id": "fc838d6d",
   "metadata": {},
   "outputs": [
    {
     "name": "stdout",
     "output_type": "stream",
     "text": [
      "Taille après suppression des lignes contenant au moins une valeur manquante : (22698, 5)\n"
     ]
    }
   ],
   "source": [
    "df = df.dropna()\n",
    "print(\"Taille après suppression des lignes contenant au moins une valeur manquante :\", df.shape)"
   ]
  },
  {
   "cell_type": "markdown",
   "id": "4a861421",
   "metadata": {},
   "source": [
    "### Number of true vs fake news"
   ]
  },
  {
   "cell_type": "markdown",
   "id": "8f34cf2d",
   "metadata": {},
   "source": [
    "We can check the number of true vs fake news in the dataset, in order to see if the dataset is balanced or not."
   ]
  },
  {
   "cell_type": "code",
   "execution_count": 38,
   "id": "03672e1a",
   "metadata": {},
   "outputs": [
    {
     "name": "stdout",
     "output_type": "stream",
     "text": [
      "Number of real news articles: 5755 (24.81%)\n",
      "Number of fake news articles: 17441 (75.19%)\n"
     ]
    }
   ],
   "source": [
    "real_news_count = df['real'].value_counts()[0]\n",
    "fake_news_count = df['real'].value_counts()[1]\n",
    "real_news_percent = (real_news_count / (real_news_count + fake_news_count)) * 100\n",
    "fake_news_percent = (fake_news_count / (real_news_count + fake_news_count)) * 100\n",
    "print(\"Number of real news articles:\", real_news_count, \"({:.2f}%)\".format(real_news_percent))\n",
    "print(\"Number of fake news articles:\", fake_news_count, \"({:.2f}%)\".format(fake_news_percent))\n"
   ]
  },
  {
   "cell_type": "markdown",
   "id": "df78c1d0",
   "metadata": {},
   "source": [
    "The difference between real and fake news articles is important. The dataset is not balanced."
   ]
  },
  {
   "cell_type": "markdown",
   "id": "b2765b6d",
   "metadata": {},
   "source": [
    "### Conclusion\n",
    "In this notebook, we have explored the Fake-News--dataset. We have done following operations to clean the dataset:\n",
    "- Removed duplicate rows\n",
    "- Removed missing values\n",
    "- Checked for missing values\n",
    "The dataset is now ready to be used for the evaluation of the chatbots."
   ]
  }
 ],
 "metadata": {
  "kernelspec": {
   "display_name": "Python 3",
   "language": "python",
   "name": "python3"
  },
  "language_info": {
   "codemirror_mode": {
    "name": "ipython",
    "version": 3
   },
   "file_extension": ".py",
   "mimetype": "text/x-python",
   "name": "python",
   "nbconvert_exporter": "python",
   "pygments_lexer": "ipython3",
   "version": "3.13.2"
  }
 },
 "nbformat": 4,
 "nbformat_minor": 5
}
