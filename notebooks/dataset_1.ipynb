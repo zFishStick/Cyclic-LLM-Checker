{
 "cells": [
  {
   "cell_type": "markdown",
   "id": "eb7f89ef",
   "metadata": {},
   "source": [
    "## Exploratory analysis of the [Fake-News-Detection-dataset](https://huggingface.co/datasets/Pulk17/Fake-News-Detection-dataset)"
   ]
  },
  {
   "cell_type": "code",
   "execution_count": null,
   "id": "57a70a0d",
   "metadata": {},
   "outputs": [],
   "source": [
    "import pandas as pd\n",
    "from datasets import load_dataset\n",
    "from typing import cast\n",
    "\n",
    "# https://huggingface.co/datasets/Pulk17/Fake-News-Detection-dataset\n",
    "df = pd.read_csv(\"hf://datasets/Pulk17/Fake-News-Detection-dataset/train.tsv\", sep=\"\\t\")"
   ]
  },
  {
   "cell_type": "markdown",
   "id": "54fc2edc",
   "metadata": {},
   "source": [
    "### Information about the dataset"
   ]
  },
  {
   "cell_type": "markdown",
   "id": "4b24ac12",
   "metadata": {},
   "source": [
    "First 5 rows of the dataset"
   ]
  },
  {
   "cell_type": "code",
   "execution_count": null,
   "id": "defd4338",
   "metadata": {},
   "outputs": [
    {
     "data": {
      "text/html": [
       "<div>\n",
       "<style scoped>\n",
       "    .dataframe tbody tr th:only-of-type {\n",
       "        vertical-align: middle;\n",
       "    }\n",
       "\n",
       "    .dataframe tbody tr th {\n",
       "        vertical-align: top;\n",
       "    }\n",
       "\n",
       "    .dataframe thead th {\n",
       "        text-align: right;\n",
       "    }\n",
       "</style>\n",
       "<table border=\"1\" class=\"dataframe\">\n",
       "  <thead>\n",
       "    <tr style=\"text-align: right;\">\n",
       "      <th></th>\n",
       "      <th>Unnamed: 0</th>\n",
       "      <th>title</th>\n",
       "      <th>text</th>\n",
       "      <th>subject</th>\n",
       "      <th>date</th>\n",
       "      <th>label</th>\n",
       "    </tr>\n",
       "  </thead>\n",
       "  <tbody>\n",
       "    <tr>\n",
       "      <th>0</th>\n",
       "      <td>2619</td>\n",
       "      <td>Ex-CIA head says Trump remarks on Russia inter...</td>\n",
       "      <td>Former CIA director John Brennan on Friday cri...</td>\n",
       "      <td>politicsNews</td>\n",
       "      <td>July 22, 2017</td>\n",
       "      <td>1</td>\n",
       "    </tr>\n",
       "    <tr>\n",
       "      <th>1</th>\n",
       "      <td>16043</td>\n",
       "      <td>YOU WON’T BELIEVE HIS PUNISHMENT! HISPANIC STO...</td>\n",
       "      <td>How did this man come to OWN this store? There...</td>\n",
       "      <td>Government News</td>\n",
       "      <td>Jun 19, 2017</td>\n",
       "      <td>0</td>\n",
       "    </tr>\n",
       "    <tr>\n",
       "      <th>2</th>\n",
       "      <td>876</td>\n",
       "      <td>Federal Reserve governor Powell's policy views...</td>\n",
       "      <td>President Donald Trump on Thursday tapped Fede...</td>\n",
       "      <td>politicsNews</td>\n",
       "      <td>November 2, 2017</td>\n",
       "      <td>1</td>\n",
       "    </tr>\n",
       "    <tr>\n",
       "      <th>3</th>\n",
       "      <td>19963</td>\n",
       "      <td>SCOUNDREL HILLARY SUPPORTER STARTS “TrumpLeaks...</td>\n",
       "      <td>Hillary Clinton ally David Brock is offering t...</td>\n",
       "      <td>left-news</td>\n",
       "      <td>Sep 17, 2016</td>\n",
       "      <td>0</td>\n",
       "    </tr>\n",
       "    <tr>\n",
       "      <th>4</th>\n",
       "      <td>10783</td>\n",
       "      <td>NANCY PELOSI ARROGANTLY DISMISSES Questions on...</td>\n",
       "      <td>Pleading ignorance is a perfect ploy for Nancy...</td>\n",
       "      <td>politics</td>\n",
       "      <td>May 26, 2017</td>\n",
       "      <td>0</td>\n",
       "    </tr>\n",
       "  </tbody>\n",
       "</table>\n",
       "</div>"
      ],
      "text/plain": [
       "   Unnamed: 0                                              title  \\\n",
       "0        2619  Ex-CIA head says Trump remarks on Russia inter...   \n",
       "1       16043  YOU WON’T BELIEVE HIS PUNISHMENT! HISPANIC STO...   \n",
       "2         876  Federal Reserve governor Powell's policy views...   \n",
       "3       19963  SCOUNDREL HILLARY SUPPORTER STARTS “TrumpLeaks...   \n",
       "4       10783  NANCY PELOSI ARROGANTLY DISMISSES Questions on...   \n",
       "\n",
       "                                                text          subject  \\\n",
       "0  Former CIA director John Brennan on Friday cri...     politicsNews   \n",
       "1  How did this man come to OWN this store? There...  Government News   \n",
       "2  President Donald Trump on Thursday tapped Fede...     politicsNews   \n",
       "3  Hillary Clinton ally David Brock is offering t...        left-news   \n",
       "4  Pleading ignorance is a perfect ploy for Nancy...         politics   \n",
       "\n",
       "                date  label  \n",
       "0     July 22, 2017       1  \n",
       "1       Jun 19, 2017      0  \n",
       "2  November 2, 2017       1  \n",
       "3       Sep 17, 2016      0  \n",
       "4       May 26, 2017      0  "
      ]
     },
     "execution_count": 173,
     "metadata": {},
     "output_type": "execute_result"
    }
   ],
   "source": [
    "df.head(5)"
   ]
  },
  {
   "cell_type": "markdown",
   "id": "e85384c1",
   "metadata": {},
   "source": [
    "Last 5 rows of the dataset"
   ]
  },
  {
   "cell_type": "code",
   "execution_count": 174,
   "id": "1f91fa6f",
   "metadata": {},
   "outputs": [
    {
     "data": {
      "text/html": [
       "<div>\n",
       "<style scoped>\n",
       "    .dataframe tbody tr th:only-of-type {\n",
       "        vertical-align: middle;\n",
       "    }\n",
       "\n",
       "    .dataframe tbody tr th {\n",
       "        vertical-align: top;\n",
       "    }\n",
       "\n",
       "    .dataframe thead th {\n",
       "        text-align: right;\n",
       "    }\n",
       "</style>\n",
       "<table border=\"1\" class=\"dataframe\">\n",
       "  <thead>\n",
       "    <tr style=\"text-align: right;\">\n",
       "      <th></th>\n",
       "      <th>Unnamed: 0</th>\n",
       "      <th>title</th>\n",
       "      <th>text</th>\n",
       "      <th>subject</th>\n",
       "      <th>date</th>\n",
       "      <th>label</th>\n",
       "    </tr>\n",
       "  </thead>\n",
       "  <tbody>\n",
       "    <tr>\n",
       "      <th>29995</th>\n",
       "      <td>6880</td>\n",
       "      <td>U.S. aerospace industry urges Trump to help Ex...</td>\n",
       "      <td>The chief executive of the U.S. Aerospace Indu...</td>\n",
       "      <td>politicsNews</td>\n",
       "      <td>December 6, 2016</td>\n",
       "      <td>1</td>\n",
       "    </tr>\n",
       "    <tr>\n",
       "      <th>29996</th>\n",
       "      <td>17818</td>\n",
       "      <td>Highlights: Hong Kong leader Carrie Lam delive...</td>\n",
       "      <td>The following are highlights of the maiden pol...</td>\n",
       "      <td>worldnews</td>\n",
       "      <td>October 11, 2017</td>\n",
       "      <td>1</td>\n",
       "    </tr>\n",
       "    <tr>\n",
       "      <th>29997</th>\n",
       "      <td>5689</td>\n",
       "      <td>Obama Literally LAUGHS At Claims That Brexit M...</td>\n",
       "      <td>If there s one thing President Barack Obama is...</td>\n",
       "      <td>News</td>\n",
       "      <td>June 28, 2016</td>\n",
       "      <td>0</td>\n",
       "    </tr>\n",
       "    <tr>\n",
       "      <th>29998</th>\n",
       "      <td>15805</td>\n",
       "      <td>Syrian army takes full control of Deir al-Zor ...</td>\n",
       "      <td>The Syrian army and its allies have taken full...</td>\n",
       "      <td>worldnews</td>\n",
       "      <td>November 2, 2017</td>\n",
       "      <td>1</td>\n",
       "    </tr>\n",
       "    <tr>\n",
       "      <th>29999</th>\n",
       "      <td>8143</td>\n",
       "      <td>U.S., Israel sign $38 billion military aid pac...</td>\n",
       "      <td>The United States will give Israel $38 billion...</td>\n",
       "      <td>politicsNews</td>\n",
       "      <td>September 14, 2016</td>\n",
       "      <td>1</td>\n",
       "    </tr>\n",
       "  </tbody>\n",
       "</table>\n",
       "</div>"
      ],
      "text/plain": [
       "       Unnamed: 0                                              title  \\\n",
       "29995        6880  U.S. aerospace industry urges Trump to help Ex...   \n",
       "29996       17818  Highlights: Hong Kong leader Carrie Lam delive...   \n",
       "29997        5689  Obama Literally LAUGHS At Claims That Brexit M...   \n",
       "29998       15805  Syrian army takes full control of Deir al-Zor ...   \n",
       "29999        8143  U.S., Israel sign $38 billion military aid pac...   \n",
       "\n",
       "                                                    text       subject  \\\n",
       "29995  The chief executive of the U.S. Aerospace Indu...  politicsNews   \n",
       "29996  The following are highlights of the maiden pol...     worldnews   \n",
       "29997  If there s one thing President Barack Obama is...          News   \n",
       "29998  The Syrian army and its allies have taken full...     worldnews   \n",
       "29999  The United States will give Israel $38 billion...  politicsNews   \n",
       "\n",
       "                      date  label  \n",
       "29995    December 6, 2016       1  \n",
       "29996    October 11, 2017       1  \n",
       "29997        June 28, 2016      0  \n",
       "29998    November 2, 2017       1  \n",
       "29999  September 14, 2016       1  "
      ]
     },
     "execution_count": 174,
     "metadata": {},
     "output_type": "execute_result"
    }
   ],
   "source": [
    "df.tail(5)"
   ]
  },
  {
   "cell_type": "markdown",
   "id": "c63c4379",
   "metadata": {},
   "source": [
    "### Types of data"
   ]
  },
  {
   "cell_type": "code",
   "execution_count": 175,
   "id": "d78a26f5",
   "metadata": {},
   "outputs": [
    {
     "data": {
      "text/plain": [
       "Unnamed: 0     int64\n",
       "title         object\n",
       "text          object\n",
       "subject       object\n",
       "date          object\n",
       "label          int64\n",
       "dtype: object"
      ]
     },
     "execution_count": 175,
     "metadata": {},
     "output_type": "execute_result"
    }
   ],
   "source": [
    "df.dtypes"
   ]
  },
  {
   "cell_type": "markdown",
   "id": "ed65b0bf",
   "metadata": {},
   "source": [
    "### Size of the dataset (rows and columns)"
   ]
  },
  {
   "cell_type": "code",
   "execution_count": 176,
   "id": "07c73072",
   "metadata": {},
   "outputs": [
    {
     "name": "stdout",
     "output_type": "stream",
     "text": [
      "Size: (30000, 6)\n"
     ]
    }
   ],
   "source": [
    "print(\"Size:\", df.shape)"
   ]
  },
  {
   "cell_type": "markdown",
   "id": "fdc8b29a",
   "metadata": {},
   "source": [
    "### Columns description in the dataset"
   ]
  },
  {
   "cell_type": "code",
   "execution_count": 177,
   "id": "bdc040dd",
   "metadata": {},
   "outputs": [
    {
     "data": {
      "text/html": [
       "<style type=\"text/css\">\n",
       "#T_904c3 th {\n",
       "  text-align: left;\n",
       "}\n",
       "#T_904c3 td {\n",
       "  text-align: left;\n",
       "}\n",
       "</style>\n",
       "<table id=\"T_904c3\">\n",
       "  <thead>\n",
       "    <tr>\n",
       "      <th class=\"blank level0\" >&nbsp;</th>\n",
       "      <th id=\"T_904c3_level0_col0\" class=\"col_heading level0 col0\" >Column name</th>\n",
       "      <th id=\"T_904c3_level0_col1\" class=\"col_heading level0 col1\" >Description</th>\n",
       "    </tr>\n",
       "  </thead>\n",
       "  <tbody>\n",
       "    <tr>\n",
       "      <th id=\"T_904c3_level0_row0\" class=\"row_heading level0 row0\" >1</th>\n",
       "      <td id=\"T_904c3_row0_col0\" class=\"data row0 col0\" >Unnamed: 0</td>\n",
       "      <td id=\"T_904c3_row0_col1\" class=\"data row0 col1\" >The unique identifier for each news article.</td>\n",
       "    </tr>\n",
       "    <tr>\n",
       "      <th id=\"T_904c3_level0_row1\" class=\"row_heading level0 row1\" >2</th>\n",
       "      <td id=\"T_904c3_row1_col0\" class=\"data row1 col0\" >title</td>\n",
       "      <td id=\"T_904c3_row1_col1\" class=\"data row1 col1\" >The title of the news article.</td>\n",
       "    </tr>\n",
       "    <tr>\n",
       "      <th id=\"T_904c3_level0_row2\" class=\"row_heading level0 row2\" >3</th>\n",
       "      <td id=\"T_904c3_row2_col0\" class=\"data row2 col0\" >text</td>\n",
       "      <td id=\"T_904c3_row2_col1\" class=\"data row2 col1\" >The content of the news article.</td>\n",
       "    </tr>\n",
       "    <tr>\n",
       "      <th id=\"T_904c3_level0_row3\" class=\"row_heading level0 row3\" >4</th>\n",
       "      <td id=\"T_904c3_row3_col0\" class=\"data row3 col0\" >subject</td>\n",
       "      <td id=\"T_904c3_row3_col1\" class=\"data row3 col1\" >The subject indicates the category of the news article.</td>\n",
       "    </tr>\n",
       "    <tr>\n",
       "      <th id=\"T_904c3_level0_row4\" class=\"row_heading level0 row4\" >5</th>\n",
       "      <td id=\"T_904c3_row4_col0\" class=\"data row4 col0\" >date</td>\n",
       "      <td id=\"T_904c3_row4_col1\" class=\"data row4 col1\" >The publication date of the news article.</td>\n",
       "    </tr>\n",
       "    <tr>\n",
       "      <th id=\"T_904c3_level0_row5\" class=\"row_heading level0 row5\" >6</th>\n",
       "      <td id=\"T_904c3_row5_col0\" class=\"data row5 col0\" >label</td>\n",
       "      <td id=\"T_904c3_row5_col1\" class=\"data row5 col1\" >The label indicating whether the news article is real (1) or fake (0).</td>\n",
       "    </tr>\n",
       "  </tbody>\n",
       "</table>\n"
      ],
      "text/plain": [
       "<pandas.io.formats.style.Styler at 0x21c007120f0>"
      ]
     },
     "execution_count": 177,
     "metadata": {},
     "output_type": "execute_result"
    }
   ],
   "source": [
    "descriptions = [\n",
    "    \"The unique identifier for each news article.\",\n",
    "    \"The title of the news article.\",\n",
    "    \"The content of the news article.\",\n",
    "    \"The subject indicates the category of the news article.\",\n",
    "    \"The publication date of the news article.\",\n",
    "    \"The label indicating whether the news article is real (1) or fake (0).\"\n",
    "]\n",
    "    \n",
    "df_description = pd.DataFrame({\n",
    "    \"Column name\": df.columns,\n",
    "    \"Description\": descriptions\n",
    "})\n",
    "\n",
    "df_description.index = df_description.index + 1  # Start index at 1\n",
    "\n",
    "df_description.style.set_table_styles([\n",
    "    {'selector': 'th',\n",
    "     'props': [('text-align', 'left')]},\n",
    "    {'selector': 'td',\n",
    "     'props': [('text-align', 'left')]}\n",
    "])"
   ]
  },
  {
   "cell_type": "markdown",
   "id": "f335bd75",
   "metadata": {},
   "source": [
    "For an easier readability, we will rename some columns which are not easily readable. \n",
    "- For example, the column ```Unnamed: 0``` will be renamed to ```id```.\n",
    "- The column ```label``` will be renamed to ```is_fake_news```.\n",
    "- Values in the column ```is_fake_news``` will be renamed from 0 and 1 to ```True``` and ```False``` respectively."
   ]
  },
  {
   "cell_type": "code",
   "execution_count": 178,
   "id": "16ee2383",
   "metadata": {},
   "outputs": [
    {
     "data": {
      "text/html": [
       "<div>\n",
       "<style scoped>\n",
       "    .dataframe tbody tr th:only-of-type {\n",
       "        vertical-align: middle;\n",
       "    }\n",
       "\n",
       "    .dataframe tbody tr th {\n",
       "        vertical-align: top;\n",
       "    }\n",
       "\n",
       "    .dataframe thead th {\n",
       "        text-align: right;\n",
       "    }\n",
       "</style>\n",
       "<table border=\"1\" class=\"dataframe\">\n",
       "  <thead>\n",
       "    <tr style=\"text-align: right;\">\n",
       "      <th></th>\n",
       "      <th>id</th>\n",
       "      <th>title</th>\n",
       "      <th>text</th>\n",
       "      <th>subject</th>\n",
       "      <th>date</th>\n",
       "      <th>is_fake_news</th>\n",
       "    </tr>\n",
       "  </thead>\n",
       "  <tbody>\n",
       "    <tr>\n",
       "      <th>0</th>\n",
       "      <td>2619</td>\n",
       "      <td>Ex-CIA head says Trump remarks on Russia inter...</td>\n",
       "      <td>Former CIA director John Brennan on Friday cri...</td>\n",
       "      <td>politicsNews</td>\n",
       "      <td>July 22, 2017</td>\n",
       "      <td>False</td>\n",
       "    </tr>\n",
       "    <tr>\n",
       "      <th>1</th>\n",
       "      <td>16043</td>\n",
       "      <td>YOU WON’T BELIEVE HIS PUNISHMENT! HISPANIC STO...</td>\n",
       "      <td>How did this man come to OWN this store? There...</td>\n",
       "      <td>Government News</td>\n",
       "      <td>Jun 19, 2017</td>\n",
       "      <td>True</td>\n",
       "    </tr>\n",
       "    <tr>\n",
       "      <th>2</th>\n",
       "      <td>876</td>\n",
       "      <td>Federal Reserve governor Powell's policy views...</td>\n",
       "      <td>President Donald Trump on Thursday tapped Fede...</td>\n",
       "      <td>politicsNews</td>\n",
       "      <td>November 2, 2017</td>\n",
       "      <td>False</td>\n",
       "    </tr>\n",
       "    <tr>\n",
       "      <th>3</th>\n",
       "      <td>19963</td>\n",
       "      <td>SCOUNDREL HILLARY SUPPORTER STARTS “TrumpLeaks...</td>\n",
       "      <td>Hillary Clinton ally David Brock is offering t...</td>\n",
       "      <td>left-news</td>\n",
       "      <td>Sep 17, 2016</td>\n",
       "      <td>True</td>\n",
       "    </tr>\n",
       "    <tr>\n",
       "      <th>4</th>\n",
       "      <td>10783</td>\n",
       "      <td>NANCY PELOSI ARROGANTLY DISMISSES Questions on...</td>\n",
       "      <td>Pleading ignorance is a perfect ploy for Nancy...</td>\n",
       "      <td>politics</td>\n",
       "      <td>May 26, 2017</td>\n",
       "      <td>True</td>\n",
       "    </tr>\n",
       "  </tbody>\n",
       "</table>\n",
       "</div>"
      ],
      "text/plain": [
       "      id                                              title  \\\n",
       "0   2619  Ex-CIA head says Trump remarks on Russia inter...   \n",
       "1  16043  YOU WON’T BELIEVE HIS PUNISHMENT! HISPANIC STO...   \n",
       "2    876  Federal Reserve governor Powell's policy views...   \n",
       "3  19963  SCOUNDREL HILLARY SUPPORTER STARTS “TrumpLeaks...   \n",
       "4  10783  NANCY PELOSI ARROGANTLY DISMISSES Questions on...   \n",
       "\n",
       "                                                text          subject  \\\n",
       "0  Former CIA director John Brennan on Friday cri...     politicsNews   \n",
       "1  How did this man come to OWN this store? There...  Government News   \n",
       "2  President Donald Trump on Thursday tapped Fede...     politicsNews   \n",
       "3  Hillary Clinton ally David Brock is offering t...        left-news   \n",
       "4  Pleading ignorance is a perfect ploy for Nancy...         politics   \n",
       "\n",
       "                date  is_fake_news  \n",
       "0     July 22, 2017          False  \n",
       "1       Jun 19, 2017          True  \n",
       "2  November 2, 2017          False  \n",
       "3       Sep 17, 2016          True  \n",
       "4       May 26, 2017          True  "
      ]
     },
     "execution_count": 178,
     "metadata": {},
     "output_type": "execute_result"
    }
   ],
   "source": [
    "df = df.rename(columns={\"Unnamed: 0\": \"id\"})\n",
    "df = df.rename(columns={\"label\": \"is_fake_news\"})\n",
    "df[\"is_fake_news\"] = df[\"is_fake_news\"].map({0: True, 1: False})\n",
    "df.head(5)"
   ]
  },
  {
   "cell_type": "markdown",
   "id": "5b286f44",
   "metadata": {},
   "source": [
    "### Deletion of duplicate rows"
   ]
  },
  {
   "cell_type": "markdown",
   "id": "894a375f",
   "metadata": {},
   "source": [
    "The datasets contains duplicated entries. We will remove them to avoid bias in the training and evaluation of the models.\n",
    "We need to consider that the column ```id``` is unique for each row, so we will not consider it when looking for duplicates."
   ]
  },
  {
   "cell_type": "code",
   "execution_count": 179,
   "id": "b58d7afb",
   "metadata": {},
   "outputs": [
    {
     "name": "stdout",
     "output_type": "stream",
     "text": [
      "Number of duplicate rows: 92\n",
      "Size before removing duplicates: (30000, 6)\n"
     ]
    }
   ],
   "source": [
    "duplicate_row_df = df[df.duplicated(subset=df.columns.difference(['id']))]\n",
    "print(\"Number of duplicate rows:\", duplicate_row_df.shape[0])\n",
    "print(\"Size before removing duplicates:\", df.shape)"
   ]
  },
  {
   "cell_type": "markdown",
   "id": "b5823918",
   "metadata": {},
   "source": [
    "The dataset contains 92 duplicate rows. We will remove them now."
   ]
  },
  {
   "cell_type": "code",
   "execution_count": 180,
   "id": "db0c87bb",
   "metadata": {},
   "outputs": [
    {
     "name": "stdout",
     "output_type": "stream",
     "text": [
      "Size after removing duplicates: (29908, 6)\n"
     ]
    }
   ],
   "source": [
    "df = df.drop_duplicates(subset=df.columns.difference(['id']))\n",
    "print(\"Size after removing duplicates:\", df.shape)"
   ]
  },
  {
   "cell_type": "markdown",
   "id": "a7e870eb",
   "metadata": {},
   "source": [
    "### Check for missing values in the dataset"
   ]
  },
  {
   "cell_type": "markdown",
   "id": "0adf481f",
   "metadata": {},
   "source": [
    "Let's check if there are any missing values in the dataset."
   ]
  },
  {
   "cell_type": "code",
   "execution_count": 181,
   "id": "c41ec189",
   "metadata": {},
   "outputs": [
    {
     "name": "stdout",
     "output_type": "stream",
     "text": [
      "id              0\n",
      "title           0\n",
      "text            0\n",
      "subject         0\n",
      "date            0\n",
      "is_fake_news    0\n",
      "dtype: int64\n"
     ]
    }
   ],
   "source": [
    "print(df.isnull().sum())"
   ]
  },
  {
   "cell_type": "markdown",
   "id": "a59ba82d",
   "metadata": {},
   "source": [
    "No missing values were found in the dataset."
   ]
  },
  {
   "cell_type": "markdown",
   "id": "c304a845",
   "metadata": {},
   "source": [
    "### Deletion of unnecessary news articles"
   ]
  },
  {
   "cell_type": "markdown",
   "id": "0358f355",
   "metadata": {},
   "source": [
    "Inside the dataset, there are almost 30k articles. \n",
    "However, we want to keep articles with a text length larger or equal than the average length of all articles. This is to avoid giving the chatbots articles that are too obvious to be classified as true or fake news."
   ]
  },
  {
   "cell_type": "code",
   "execution_count": 182,
   "id": "3ded8bb0",
   "metadata": {},
   "outputs": [
    {
     "name": "stdout",
     "output_type": "stream",
     "text": [
      "The average length of articles is: 2484\n"
     ]
    }
   ],
   "source": [
    "df_average_length = df['text'].str.len().mean()\n",
    "print(\"The average length of articles is:\", df_average_length.astype(int))"
   ]
  },
  {
   "cell_type": "markdown",
   "id": "78076062",
   "metadata": {},
   "source": [
    "We proceed to remove every article with a text length smaller than the average length of all articles, so ```2484```."
   ]
  },
  {
   "cell_type": "code",
   "execution_count": 183,
   "id": "a6be16a6",
   "metadata": {},
   "outputs": [
    {
     "name": "stdout",
     "output_type": "stream",
     "text": [
      "Size after removing short articles: (12001, 6)\n"
     ]
    }
   ],
   "source": [
    "df = df[df['text'].str.len() >= df_average_length]\n",
    "print(\"Size after removing short articles:\", df.shape)"
   ]
  },
  {
   "cell_type": "markdown",
   "id": "aceaa9aa",
   "metadata": {},
   "source": [
    "### Number of true vs fake news"
   ]
  },
  {
   "cell_type": "markdown",
   "id": "42ff35a4",
   "metadata": {},
   "source": [
    "We can check the number of true vs fake news in the dataset, in order to see if the dataset is balanced or not."
   ]
  },
  {
   "cell_type": "code",
   "execution_count": 187,
   "id": "ad701376",
   "metadata": {},
   "outputs": [
    {
     "name": "stdout",
     "output_type": "stream",
     "text": [
      "Number of real news articles: 5851 (48.75%)\n",
      "Number of fake news articles: 6150 (51.25%)\n"
     ]
    }
   ],
   "source": [
    "real_news_count = df['is_fake_news'].value_counts()[False]\n",
    "fake_news_count = df['is_fake_news'].value_counts()[True]\n",
    "real_news_percent = (real_news_count / (real_news_count + fake_news_count)) * 100\n",
    "fake_news_percent = (fake_news_count / (real_news_count + fake_news_count)) * 100\n",
    "print(\"Number of real news articles:\", real_news_count, \"({:.2f}%)\".format(real_news_percent))\n",
    "print(\"Number of fake news articles:\", fake_news_count, \"({:.2f}%)\".format(fake_news_percent))\n"
   ]
  },
  {
   "cell_type": "markdown",
   "id": "fdb70d84",
   "metadata": {},
   "source": [
    "The difference between real and fake news articles is minimal. The dataset is balanced."
   ]
  },
  {
   "cell_type": "markdown",
   "id": "2125c9a3",
   "metadata": {},
   "source": [
    "### Conclusion\n",
    "In this notebook, we have explored the Fake-News-Detection-dataset. We have done following operations to clean the dataset:\n",
    "- Removed duplicate rows\n",
    "- Removed articles with a text length smaller than the average length of all articles\n",
    "- Checked for missing values\n",
    "The dataset is now ready to be used for the evaluation of the chatbots."
   ]
  }
 ],
 "metadata": {
  "kernelspec": {
   "display_name": "Python 3",
   "language": "python",
   "name": "python3"
  },
  "language_info": {
   "codemirror_mode": {
    "name": "ipython",
    "version": 3
   },
   "file_extension": ".py",
   "mimetype": "text/x-python",
   "name": "python",
   "nbconvert_exporter": "python",
   "pygments_lexer": "ipython3",
   "version": "3.12.2"
  }
 },
 "nbformat": 4,
 "nbformat_minor": 5
}
