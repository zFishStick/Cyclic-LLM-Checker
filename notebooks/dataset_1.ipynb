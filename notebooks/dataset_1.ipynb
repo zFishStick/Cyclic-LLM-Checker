{
 "cells": [
  {
   "cell_type": "markdown",
   "id": "eb7f89ef",
   "metadata": {},
   "source": [
    "## 🔎 Exploratory analysis of the [Fake-News-Detection-dataset](https://huggingface.co/datasets/Pulk17/Fake-News-Detection-dataset)"
   ]
  },
  {
   "cell_type": "code",
   "execution_count": 1,
   "id": "57a70a0d",
   "metadata": {},
   "outputs": [],
   "source": [
    "import pandas as pd\n",
    "import os\n",
    "\n",
    "# Local file path = local_datasets\\train.tsv\n",
    "file_path = os.path.join(\"..\", \"local_datasets\", \"train.tsv\")\n",
    "\n",
    "df = pd.read_csv(file_path, sep=\"\\t\")"
   ]
  },
  {
   "cell_type": "markdown",
   "id": "54fc2edc",
   "metadata": {},
   "source": [
    "### 🧾 Information about the dataset"
   ]
  },
  {
   "cell_type": "code",
   "execution_count": 2,
   "id": "e9be1d4f",
   "metadata": {},
   "outputs": [
    {
     "name": "stdout",
     "output_type": "stream",
     "text": [
      "<class 'pandas.core.frame.DataFrame'>\n",
      "RangeIndex: 30000 entries, 0 to 29999\n",
      "Data columns (total 6 columns):\n",
      " #   Column      Non-Null Count  Dtype \n",
      "---  ------      --------------  ----- \n",
      " 0   Unnamed: 0  30000 non-null  int64 \n",
      " 1   title       30000 non-null  object\n",
      " 2   text        30000 non-null  object\n",
      " 3   subject     30000 non-null  object\n",
      " 4   date        30000 non-null  object\n",
      " 5   label       30000 non-null  int64 \n",
      "dtypes: int64(2), object(4)\n",
      "memory usage: 1.4+ MB\n"
     ]
    }
   ],
   "source": [
    "df.info()"
   ]
  },
  {
   "cell_type": "markdown",
   "id": "4b24ac12",
   "metadata": {},
   "source": [
    "First 5 rows of the dataset"
   ]
  },
  {
   "cell_type": "code",
   "execution_count": 3,
   "id": "defd4338",
   "metadata": {},
   "outputs": [
    {
     "data": {
      "text/html": [
       "<div>\n",
       "<style scoped>\n",
       "    .dataframe tbody tr th:only-of-type {\n",
       "        vertical-align: middle;\n",
       "    }\n",
       "\n",
       "    .dataframe tbody tr th {\n",
       "        vertical-align: top;\n",
       "    }\n",
       "\n",
       "    .dataframe thead th {\n",
       "        text-align: right;\n",
       "    }\n",
       "</style>\n",
       "<table border=\"1\" class=\"dataframe\">\n",
       "  <thead>\n",
       "    <tr style=\"text-align: right;\">\n",
       "      <th></th>\n",
       "      <th>Unnamed: 0</th>\n",
       "      <th>title</th>\n",
       "      <th>text</th>\n",
       "      <th>subject</th>\n",
       "      <th>date</th>\n",
       "      <th>label</th>\n",
       "    </tr>\n",
       "  </thead>\n",
       "  <tbody>\n",
       "    <tr>\n",
       "      <th>0</th>\n",
       "      <td>2619</td>\n",
       "      <td>Ex-CIA head says Trump remarks on Russia inter...</td>\n",
       "      <td>Former CIA director John Brennan on Friday cri...</td>\n",
       "      <td>politicsNews</td>\n",
       "      <td>July 22, 2017</td>\n",
       "      <td>1</td>\n",
       "    </tr>\n",
       "    <tr>\n",
       "      <th>1</th>\n",
       "      <td>16043</td>\n",
       "      <td>YOU WON’T BELIEVE HIS PUNISHMENT! HISPANIC STO...</td>\n",
       "      <td>How did this man come to OWN this store? There...</td>\n",
       "      <td>Government News</td>\n",
       "      <td>Jun 19, 2017</td>\n",
       "      <td>0</td>\n",
       "    </tr>\n",
       "    <tr>\n",
       "      <th>2</th>\n",
       "      <td>876</td>\n",
       "      <td>Federal Reserve governor Powell's policy views...</td>\n",
       "      <td>President Donald Trump on Thursday tapped Fede...</td>\n",
       "      <td>politicsNews</td>\n",
       "      <td>November 2, 2017</td>\n",
       "      <td>1</td>\n",
       "    </tr>\n",
       "    <tr>\n",
       "      <th>3</th>\n",
       "      <td>19963</td>\n",
       "      <td>SCOUNDREL HILLARY SUPPORTER STARTS “TrumpLeaks...</td>\n",
       "      <td>Hillary Clinton ally David Brock is offering t...</td>\n",
       "      <td>left-news</td>\n",
       "      <td>Sep 17, 2016</td>\n",
       "      <td>0</td>\n",
       "    </tr>\n",
       "    <tr>\n",
       "      <th>4</th>\n",
       "      <td>10783</td>\n",
       "      <td>NANCY PELOSI ARROGANTLY DISMISSES Questions on...</td>\n",
       "      <td>Pleading ignorance is a perfect ploy for Nancy...</td>\n",
       "      <td>politics</td>\n",
       "      <td>May 26, 2017</td>\n",
       "      <td>0</td>\n",
       "    </tr>\n",
       "  </tbody>\n",
       "</table>\n",
       "</div>"
      ],
      "text/plain": [
       "   Unnamed: 0                                              title  \\\n",
       "0        2619  Ex-CIA head says Trump remarks on Russia inter...   \n",
       "1       16043  YOU WON’T BELIEVE HIS PUNISHMENT! HISPANIC STO...   \n",
       "2         876  Federal Reserve governor Powell's policy views...   \n",
       "3       19963  SCOUNDREL HILLARY SUPPORTER STARTS “TrumpLeaks...   \n",
       "4       10783  NANCY PELOSI ARROGANTLY DISMISSES Questions on...   \n",
       "\n",
       "                                                text          subject  \\\n",
       "0  Former CIA director John Brennan on Friday cri...     politicsNews   \n",
       "1  How did this man come to OWN this store? There...  Government News   \n",
       "2  President Donald Trump on Thursday tapped Fede...     politicsNews   \n",
       "3  Hillary Clinton ally David Brock is offering t...        left-news   \n",
       "4  Pleading ignorance is a perfect ploy for Nancy...         politics   \n",
       "\n",
       "                date  label  \n",
       "0     July 22, 2017       1  \n",
       "1       Jun 19, 2017      0  \n",
       "2  November 2, 2017       1  \n",
       "3       Sep 17, 2016      0  \n",
       "4       May 26, 2017      0  "
      ]
     },
     "execution_count": 3,
     "metadata": {},
     "output_type": "execute_result"
    }
   ],
   "source": [
    "df.head(5)"
   ]
  },
  {
   "cell_type": "markdown",
   "id": "e85384c1",
   "metadata": {},
   "source": [
    "Last 5 rows of the dataset"
   ]
  },
  {
   "cell_type": "code",
   "execution_count": 4,
   "id": "1f91fa6f",
   "metadata": {},
   "outputs": [
    {
     "data": {
      "text/html": [
       "<div>\n",
       "<style scoped>\n",
       "    .dataframe tbody tr th:only-of-type {\n",
       "        vertical-align: middle;\n",
       "    }\n",
       "\n",
       "    .dataframe tbody tr th {\n",
       "        vertical-align: top;\n",
       "    }\n",
       "\n",
       "    .dataframe thead th {\n",
       "        text-align: right;\n",
       "    }\n",
       "</style>\n",
       "<table border=\"1\" class=\"dataframe\">\n",
       "  <thead>\n",
       "    <tr style=\"text-align: right;\">\n",
       "      <th></th>\n",
       "      <th>Unnamed: 0</th>\n",
       "      <th>title</th>\n",
       "      <th>text</th>\n",
       "      <th>subject</th>\n",
       "      <th>date</th>\n",
       "      <th>label</th>\n",
       "    </tr>\n",
       "  </thead>\n",
       "  <tbody>\n",
       "    <tr>\n",
       "      <th>29995</th>\n",
       "      <td>6880</td>\n",
       "      <td>U.S. aerospace industry urges Trump to help Ex...</td>\n",
       "      <td>The chief executive of the U.S. Aerospace Indu...</td>\n",
       "      <td>politicsNews</td>\n",
       "      <td>December 6, 2016</td>\n",
       "      <td>1</td>\n",
       "    </tr>\n",
       "    <tr>\n",
       "      <th>29996</th>\n",
       "      <td>17818</td>\n",
       "      <td>Highlights: Hong Kong leader Carrie Lam delive...</td>\n",
       "      <td>The following are highlights of the maiden pol...</td>\n",
       "      <td>worldnews</td>\n",
       "      <td>October 11, 2017</td>\n",
       "      <td>1</td>\n",
       "    </tr>\n",
       "    <tr>\n",
       "      <th>29997</th>\n",
       "      <td>5689</td>\n",
       "      <td>Obama Literally LAUGHS At Claims That Brexit M...</td>\n",
       "      <td>If there s one thing President Barack Obama is...</td>\n",
       "      <td>News</td>\n",
       "      <td>June 28, 2016</td>\n",
       "      <td>0</td>\n",
       "    </tr>\n",
       "    <tr>\n",
       "      <th>29998</th>\n",
       "      <td>15805</td>\n",
       "      <td>Syrian army takes full control of Deir al-Zor ...</td>\n",
       "      <td>The Syrian army and its allies have taken full...</td>\n",
       "      <td>worldnews</td>\n",
       "      <td>November 2, 2017</td>\n",
       "      <td>1</td>\n",
       "    </tr>\n",
       "    <tr>\n",
       "      <th>29999</th>\n",
       "      <td>8143</td>\n",
       "      <td>U.S., Israel sign $38 billion military aid pac...</td>\n",
       "      <td>The United States will give Israel $38 billion...</td>\n",
       "      <td>politicsNews</td>\n",
       "      <td>September 14, 2016</td>\n",
       "      <td>1</td>\n",
       "    </tr>\n",
       "  </tbody>\n",
       "</table>\n",
       "</div>"
      ],
      "text/plain": [
       "       Unnamed: 0                                              title  \\\n",
       "29995        6880  U.S. aerospace industry urges Trump to help Ex...   \n",
       "29996       17818  Highlights: Hong Kong leader Carrie Lam delive...   \n",
       "29997        5689  Obama Literally LAUGHS At Claims That Brexit M...   \n",
       "29998       15805  Syrian army takes full control of Deir al-Zor ...   \n",
       "29999        8143  U.S., Israel sign $38 billion military aid pac...   \n",
       "\n",
       "                                                    text       subject  \\\n",
       "29995  The chief executive of the U.S. Aerospace Indu...  politicsNews   \n",
       "29996  The following are highlights of the maiden pol...     worldnews   \n",
       "29997  If there s one thing President Barack Obama is...          News   \n",
       "29998  The Syrian army and its allies have taken full...     worldnews   \n",
       "29999  The United States will give Israel $38 billion...  politicsNews   \n",
       "\n",
       "                      date  label  \n",
       "29995    December 6, 2016       1  \n",
       "29996    October 11, 2017       1  \n",
       "29997        June 28, 2016      0  \n",
       "29998    November 2, 2017       1  \n",
       "29999  September 14, 2016       1  "
      ]
     },
     "execution_count": 4,
     "metadata": {},
     "output_type": "execute_result"
    }
   ],
   "source": [
    "df.tail(5)"
   ]
  },
  {
   "cell_type": "markdown",
   "id": "c63c4379",
   "metadata": {},
   "source": [
    "### 🧾 Types of data"
   ]
  },
  {
   "cell_type": "code",
   "execution_count": 5,
   "id": "d78a26f5",
   "metadata": {},
   "outputs": [
    {
     "data": {
      "text/plain": [
       "Unnamed: 0     int64\n",
       "title         object\n",
       "text          object\n",
       "subject       object\n",
       "date          object\n",
       "label          int64\n",
       "dtype: object"
      ]
     },
     "execution_count": 5,
     "metadata": {},
     "output_type": "execute_result"
    }
   ],
   "source": [
    "df.dtypes"
   ]
  },
  {
   "cell_type": "markdown",
   "id": "ed65b0bf",
   "metadata": {},
   "source": [
    "### 🧾 Size of the dataset (rows and columns)"
   ]
  },
  {
   "cell_type": "code",
   "execution_count": 6,
   "id": "07c73072",
   "metadata": {},
   "outputs": [
    {
     "name": "stdout",
     "output_type": "stream",
     "text": [
      "Size: (30000, 6)\n"
     ]
    }
   ],
   "source": [
    "print(\"Size:\", df.shape)"
   ]
  },
  {
   "cell_type": "markdown",
   "id": "fdc8b29a",
   "metadata": {},
   "source": [
    "### 📃 Columns description in the dataset"
   ]
  },
  {
   "cell_type": "code",
   "execution_count": 7,
   "id": "bdc040dd",
   "metadata": {},
   "outputs": [
    {
     "data": {
      "text/html": [
       "<style type=\"text/css\">\n",
       "#T_7dc03 th {\n",
       "  text-align: left;\n",
       "}\n",
       "#T_7dc03 td {\n",
       "  text-align: left;\n",
       "}\n",
       "</style>\n",
       "<table id=\"T_7dc03\">\n",
       "  <thead>\n",
       "    <tr>\n",
       "      <th class=\"blank level0\" >&nbsp;</th>\n",
       "      <th id=\"T_7dc03_level0_col0\" class=\"col_heading level0 col0\" >Column name</th>\n",
       "      <th id=\"T_7dc03_level0_col1\" class=\"col_heading level0 col1\" >Description</th>\n",
       "    </tr>\n",
       "  </thead>\n",
       "  <tbody>\n",
       "    <tr>\n",
       "      <th id=\"T_7dc03_level0_row0\" class=\"row_heading level0 row0\" >1</th>\n",
       "      <td id=\"T_7dc03_row0_col0\" class=\"data row0 col0\" >Unnamed: 0</td>\n",
       "      <td id=\"T_7dc03_row0_col1\" class=\"data row0 col1\" >The unique identifier for each news article.</td>\n",
       "    </tr>\n",
       "    <tr>\n",
       "      <th id=\"T_7dc03_level0_row1\" class=\"row_heading level0 row1\" >2</th>\n",
       "      <td id=\"T_7dc03_row1_col0\" class=\"data row1 col0\" >title</td>\n",
       "      <td id=\"T_7dc03_row1_col1\" class=\"data row1 col1\" >The title of the news article.</td>\n",
       "    </tr>\n",
       "    <tr>\n",
       "      <th id=\"T_7dc03_level0_row2\" class=\"row_heading level0 row2\" >3</th>\n",
       "      <td id=\"T_7dc03_row2_col0\" class=\"data row2 col0\" >text</td>\n",
       "      <td id=\"T_7dc03_row2_col1\" class=\"data row2 col1\" >The content of the news article.</td>\n",
       "    </tr>\n",
       "    <tr>\n",
       "      <th id=\"T_7dc03_level0_row3\" class=\"row_heading level0 row3\" >4</th>\n",
       "      <td id=\"T_7dc03_row3_col0\" class=\"data row3 col0\" >subject</td>\n",
       "      <td id=\"T_7dc03_row3_col1\" class=\"data row3 col1\" >The subject indicates the category of the news article.</td>\n",
       "    </tr>\n",
       "    <tr>\n",
       "      <th id=\"T_7dc03_level0_row4\" class=\"row_heading level0 row4\" >5</th>\n",
       "      <td id=\"T_7dc03_row4_col0\" class=\"data row4 col0\" >date</td>\n",
       "      <td id=\"T_7dc03_row4_col1\" class=\"data row4 col1\" >The publication date of the news article.</td>\n",
       "    </tr>\n",
       "    <tr>\n",
       "      <th id=\"T_7dc03_level0_row5\" class=\"row_heading level0 row5\" >6</th>\n",
       "      <td id=\"T_7dc03_row5_col0\" class=\"data row5 col0\" >label</td>\n",
       "      <td id=\"T_7dc03_row5_col1\" class=\"data row5 col1\" >The label indicating whether the news article is real (1) or fake (0).</td>\n",
       "    </tr>\n",
       "  </tbody>\n",
       "</table>\n"
      ],
      "text/plain": [
       "<pandas.io.formats.style.Styler at 0x29ca0c24a10>"
      ]
     },
     "execution_count": 7,
     "metadata": {},
     "output_type": "execute_result"
    }
   ],
   "source": [
    "descriptions = [\n",
    "    \"The unique identifier for each news article.\",\n",
    "    \"The title of the news article.\",\n",
    "    \"The content of the news article.\",\n",
    "    \"The subject indicates the category of the news article.\",\n",
    "    \"The publication date of the news article.\",\n",
    "    \"The label indicating whether the news article is real (1) or fake (0).\"\n",
    "]\n",
    "    \n",
    "df_description = pd.DataFrame({\n",
    "    \"Column name\": df.columns,\n",
    "    \"Description\": descriptions\n",
    "})\n",
    "\n",
    "df_description.index = df_description.index + 1  # Start index at 1\n",
    "\n",
    "df_description.style.set_table_styles([\n",
    "    {'selector': 'th',\n",
    "     'props': [('text-align', 'left')]},\n",
    "    {'selector': 'td',\n",
    "     'props': [('text-align', 'left')]}\n",
    "])"
   ]
  },
  {
   "cell_type": "markdown",
   "id": "f335bd75",
   "metadata": {},
   "source": [
    "For an easier readability, we will rename some columns which are not easily readable. \n",
    "- For example, the column ```Unnamed: 0``` will be renamed to ```id```.\n",
    "- The column ```label``` will be renamed to ```is_fake_news```.\n",
    "- Values in the column ```is_fake_news``` will be renamed from 0 and 1 to ```True``` and ```False``` respectively."
   ]
  },
  {
   "cell_type": "code",
   "execution_count": 8,
   "id": "16ee2383",
   "metadata": {},
   "outputs": [
    {
     "data": {
      "text/html": [
       "<div>\n",
       "<style scoped>\n",
       "    .dataframe tbody tr th:only-of-type {\n",
       "        vertical-align: middle;\n",
       "    }\n",
       "\n",
       "    .dataframe tbody tr th {\n",
       "        vertical-align: top;\n",
       "    }\n",
       "\n",
       "    .dataframe thead th {\n",
       "        text-align: right;\n",
       "    }\n",
       "</style>\n",
       "<table border=\"1\" class=\"dataframe\">\n",
       "  <thead>\n",
       "    <tr style=\"text-align: right;\">\n",
       "      <th></th>\n",
       "      <th>id</th>\n",
       "      <th>title</th>\n",
       "      <th>text</th>\n",
       "      <th>subject</th>\n",
       "      <th>date</th>\n",
       "      <th>is_fake_news</th>\n",
       "    </tr>\n",
       "  </thead>\n",
       "  <tbody>\n",
       "    <tr>\n",
       "      <th>0</th>\n",
       "      <td>2619</td>\n",
       "      <td>Ex-CIA head says Trump remarks on Russia inter...</td>\n",
       "      <td>Former CIA director John Brennan on Friday cri...</td>\n",
       "      <td>politicsNews</td>\n",
       "      <td>July 22, 2017</td>\n",
       "      <td>False</td>\n",
       "    </tr>\n",
       "    <tr>\n",
       "      <th>1</th>\n",
       "      <td>16043</td>\n",
       "      <td>YOU WON’T BELIEVE HIS PUNISHMENT! HISPANIC STO...</td>\n",
       "      <td>How did this man come to OWN this store? There...</td>\n",
       "      <td>Government News</td>\n",
       "      <td>Jun 19, 2017</td>\n",
       "      <td>True</td>\n",
       "    </tr>\n",
       "    <tr>\n",
       "      <th>2</th>\n",
       "      <td>876</td>\n",
       "      <td>Federal Reserve governor Powell's policy views...</td>\n",
       "      <td>President Donald Trump on Thursday tapped Fede...</td>\n",
       "      <td>politicsNews</td>\n",
       "      <td>November 2, 2017</td>\n",
       "      <td>False</td>\n",
       "    </tr>\n",
       "    <tr>\n",
       "      <th>3</th>\n",
       "      <td>19963</td>\n",
       "      <td>SCOUNDREL HILLARY SUPPORTER STARTS “TrumpLeaks...</td>\n",
       "      <td>Hillary Clinton ally David Brock is offering t...</td>\n",
       "      <td>left-news</td>\n",
       "      <td>Sep 17, 2016</td>\n",
       "      <td>True</td>\n",
       "    </tr>\n",
       "    <tr>\n",
       "      <th>4</th>\n",
       "      <td>10783</td>\n",
       "      <td>NANCY PELOSI ARROGANTLY DISMISSES Questions on...</td>\n",
       "      <td>Pleading ignorance is a perfect ploy for Nancy...</td>\n",
       "      <td>politics</td>\n",
       "      <td>May 26, 2017</td>\n",
       "      <td>True</td>\n",
       "    </tr>\n",
       "  </tbody>\n",
       "</table>\n",
       "</div>"
      ],
      "text/plain": [
       "      id                                              title  \\\n",
       "0   2619  Ex-CIA head says Trump remarks on Russia inter...   \n",
       "1  16043  YOU WON’T BELIEVE HIS PUNISHMENT! HISPANIC STO...   \n",
       "2    876  Federal Reserve governor Powell's policy views...   \n",
       "3  19963  SCOUNDREL HILLARY SUPPORTER STARTS “TrumpLeaks...   \n",
       "4  10783  NANCY PELOSI ARROGANTLY DISMISSES Questions on...   \n",
       "\n",
       "                                                text          subject  \\\n",
       "0  Former CIA director John Brennan on Friday cri...     politicsNews   \n",
       "1  How did this man come to OWN this store? There...  Government News   \n",
       "2  President Donald Trump on Thursday tapped Fede...     politicsNews   \n",
       "3  Hillary Clinton ally David Brock is offering t...        left-news   \n",
       "4  Pleading ignorance is a perfect ploy for Nancy...         politics   \n",
       "\n",
       "                date  is_fake_news  \n",
       "0     July 22, 2017          False  \n",
       "1       Jun 19, 2017          True  \n",
       "2  November 2, 2017          False  \n",
       "3       Sep 17, 2016          True  \n",
       "4       May 26, 2017          True  "
      ]
     },
     "execution_count": 8,
     "metadata": {},
     "output_type": "execute_result"
    }
   ],
   "source": [
    "df = df.rename(columns={\"Unnamed: 0\": \"id\"})\n",
    "df = df.rename(columns={\"label\": \"is_fake_news\"})\n",
    "df[\"is_fake_news\"] = df[\"is_fake_news\"].map({0: True, 1: False})\n",
    "df.head(5)"
   ]
  },
  {
   "cell_type": "markdown",
   "id": "5b286f44",
   "metadata": {},
   "source": [
    "### 🧾 Deletion of duplicate rows"
   ]
  },
  {
   "cell_type": "markdown",
   "id": "894a375f",
   "metadata": {},
   "source": [
    "The datasets contains duplicated entries. We will remove them to avoid bias in the training and evaluation of the models.\n",
    "We need to consider that the column ```id``` is unique for each row, so we will not consider it when looking for duplicates."
   ]
  },
  {
   "cell_type": "code",
   "execution_count": 9,
   "id": "b58d7afb",
   "metadata": {},
   "outputs": [
    {
     "name": "stdout",
     "output_type": "stream",
     "text": [
      "Number of duplicate rows: 92\n",
      "Size before removing duplicates: (30000, 6)\n"
     ]
    }
   ],
   "source": [
    "duplicate_row_df = df[df.duplicated(subset=df.columns.difference(['id']))]\n",
    "print(\"Number of duplicate rows:\", duplicate_row_df.shape[0])\n",
    "print(\"Size before removing duplicates:\", df.shape)"
   ]
  },
  {
   "cell_type": "markdown",
   "id": "b5823918",
   "metadata": {},
   "source": [
    "The dataset contains 92 duplicate rows. We will remove them now."
   ]
  },
  {
   "cell_type": "code",
   "execution_count": 10,
   "id": "db0c87bb",
   "metadata": {},
   "outputs": [
    {
     "name": "stdout",
     "output_type": "stream",
     "text": [
      "Size after removing duplicates: (29908, 6)\n"
     ]
    }
   ],
   "source": [
    "df = df.drop_duplicates(subset=df.columns.difference(['id']))\n",
    "print(\"Size after removing duplicates:\", df.shape)"
   ]
  },
  {
   "cell_type": "markdown",
   "id": "a7e870eb",
   "metadata": {},
   "source": [
    "### 🧾 Check for missing values in the dataset"
   ]
  },
  {
   "cell_type": "markdown",
   "id": "0adf481f",
   "metadata": {},
   "source": [
    "Let's check if there are any missing values in the dataset."
   ]
  },
  {
   "cell_type": "code",
   "execution_count": 11,
   "id": "c41ec189",
   "metadata": {},
   "outputs": [
    {
     "name": "stdout",
     "output_type": "stream",
     "text": [
      "id              0\n",
      "title           0\n",
      "text            0\n",
      "subject         0\n",
      "date            0\n",
      "is_fake_news    0\n",
      "dtype: int64\n"
     ]
    }
   ],
   "source": [
    "print(df.isnull().sum())"
   ]
  },
  {
   "cell_type": "markdown",
   "id": "a59ba82d",
   "metadata": {},
   "source": [
    "No missing values were found in the dataset."
   ]
  },
  {
   "cell_type": "markdown",
   "id": "c304a845",
   "metadata": {},
   "source": [
    "### 🧾 Deletion of unnecessary news articles"
   ]
  },
  {
   "cell_type": "markdown",
   "id": "0358f355",
   "metadata": {},
   "source": [
    "Inside the dataset, there are almost 30k articles. \n",
    "However, we want to keep articles with a text length larger or equal than the average length of all articles. This is to avoid giving the chatbots articles that are too obvious to be classified as true or fake news."
   ]
  },
  {
   "cell_type": "code",
   "execution_count": 12,
   "id": "3ded8bb0",
   "metadata": {},
   "outputs": [
    {
     "name": "stdout",
     "output_type": "stream",
     "text": [
      "The average length of articles is: 2484\n"
     ]
    }
   ],
   "source": [
    "df_average_length = df['text'].str.len().mean()\n",
    "print(\"The average length of articles is:\", df_average_length.astype(int)) # type: ignore"
   ]
  },
  {
   "cell_type": "markdown",
   "id": "78076062",
   "metadata": {},
   "source": [
    "We proceed to remove every article with a text length smaller than the average length of all articles, so ```2484```."
   ]
  },
  {
   "cell_type": "code",
   "execution_count": 13,
   "id": "a6be16a6",
   "metadata": {},
   "outputs": [
    {
     "name": "stdout",
     "output_type": "stream",
     "text": [
      "Size after removing short articles: (12001, 6)\n"
     ]
    }
   ],
   "source": [
    "df = df[df['text'].str.len() >= df_average_length] # type: ignore\n",
    "print(\"Size after removing short articles:\", df.shape)"
   ]
  },
  {
   "cell_type": "markdown",
   "id": "72a61b23",
   "metadata": {},
   "source": [
    "### 🧾 Deletion of obvious fake articles\n",
    "Some articles, due only by their title, shows obvious signs of being fake news. Examples of this are titles with all capital letters, titles with many exclamation marks, titles with words like \"VIDEO\", \"WATCH\", \"YOU WON'T BELIEVE\", etc.\n",
    "We will remove these articles from the dataset to avoid bias in the training and evaluation of the models."
   ]
  },
  {
   "cell_type": "markdown",
   "id": "99886081",
   "metadata": {},
   "source": [
    "Here some examples of obvious fake news titles found in the dataset"
   ]
  },
  {
   "cell_type": "code",
   "execution_count": 14,
   "id": "921c15f9",
   "metadata": {},
   "outputs": [
    {
     "data": {
      "text/html": [
       "<div>\n",
       "<style scoped>\n",
       "    .dataframe tbody tr th:only-of-type {\n",
       "        vertical-align: middle;\n",
       "    }\n",
       "\n",
       "    .dataframe tbody tr th {\n",
       "        vertical-align: top;\n",
       "    }\n",
       "\n",
       "    .dataframe thead th {\n",
       "        text-align: right;\n",
       "    }\n",
       "</style>\n",
       "<table border=\"1\" class=\"dataframe\">\n",
       "  <thead>\n",
       "    <tr style=\"text-align: right;\">\n",
       "      <th></th>\n",
       "      <th>id</th>\n",
       "      <th>title</th>\n",
       "      <th>text</th>\n",
       "      <th>subject</th>\n",
       "      <th>date</th>\n",
       "      <th>is_fake_news</th>\n",
       "    </tr>\n",
       "  </thead>\n",
       "  <tbody>\n",
       "    <tr>\n",
       "      <th>0</th>\n",
       "      <td>2619</td>\n",
       "      <td>Ex-CIA head says Trump remarks on Russia inter...</td>\n",
       "      <td>Former CIA director John Brennan on Friday cri...</td>\n",
       "      <td>politicsNews</td>\n",
       "      <td>July 22, 2017</td>\n",
       "      <td>False</td>\n",
       "    </tr>\n",
       "    <tr>\n",
       "      <th>1</th>\n",
       "      <td>16043</td>\n",
       "      <td>YOU WON’T BELIEVE HIS PUNISHMENT! HISPANIC STO...</td>\n",
       "      <td>How did this man come to OWN this store? There...</td>\n",
       "      <td>Government News</td>\n",
       "      <td>Jun 19, 2017</td>\n",
       "      <td>True</td>\n",
       "    </tr>\n",
       "    <tr>\n",
       "      <th>21</th>\n",
       "      <td>20770</td>\n",
       "      <td>SHAMEFUL! AIR FORCE VETERAN Ousted From Collea...</td>\n",
       "      <td>OBAMA S AMERICA:  Why do you think people are ...</td>\n",
       "      <td>left-news</td>\n",
       "      <td>Apr 6, 2016</td>\n",
       "      <td>True</td>\n",
       "    </tr>\n",
       "    <tr>\n",
       "      <th>41</th>\n",
       "      <td>4159</td>\n",
       "      <td>T-shirts Were Sold Outside Bills Game With Rif...</td>\n",
       "      <td>San Francisco 49ers quarterback Colin Kaeperni...</td>\n",
       "      <td>News</td>\n",
       "      <td>October 17, 2016</td>\n",
       "      <td>True</td>\n",
       "    </tr>\n",
       "    <tr>\n",
       "      <th>46</th>\n",
       "      <td>11158</td>\n",
       "      <td>COLLEGE SNOWFLAKES FREAK OUT! “Feel Unsafe” Ov...</td>\n",
       "      <td>Notre Dame students are freaking out over Vice...</td>\n",
       "      <td>politics</td>\n",
       "      <td>Apr 12, 2017</td>\n",
       "      <td>True</td>\n",
       "    </tr>\n",
       "    <tr>\n",
       "      <th>50</th>\n",
       "      <td>8626</td>\n",
       "      <td>Donna Brazile DESTROYS Palin For Blaming Her W...</td>\n",
       "      <td>Sarah Palin did something entirely expected of...</td>\n",
       "      <td>News</td>\n",
       "      <td>January 21, 2016</td>\n",
       "      <td>True</td>\n",
       "    </tr>\n",
       "    <tr>\n",
       "      <th>63</th>\n",
       "      <td>3060</td>\n",
       "      <td>George Takei Just F*cking HUMILIATED Trump Ove...</td>\n",
       "      <td>In case you have not heard, an addendum to the...</td>\n",
       "      <td>News</td>\n",
       "      <td>January 11, 2017</td>\n",
       "      <td>True</td>\n",
       "    </tr>\n",
       "    <tr>\n",
       "      <th>64</th>\n",
       "      <td>4034</td>\n",
       "      <td>U.S. FCC chief unveils plan to scrap Obama-era...</td>\n",
       "      <td>The head of the Federal Communications Commiss...</td>\n",
       "      <td>politicsNews</td>\n",
       "      <td>April 27, 2017</td>\n",
       "      <td>False</td>\n",
       "    </tr>\n",
       "    <tr>\n",
       "      <th>65</th>\n",
       "      <td>1686</td>\n",
       "      <td>WATCH: Jake Tapper HUMILIATES Trump With The S...</td>\n",
       "      <td>Donald Trump recently said that grading his fi...</td>\n",
       "      <td>News</td>\n",
       "      <td>April 25, 2017</td>\n",
       "      <td>True</td>\n",
       "    </tr>\n",
       "    <tr>\n",
       "      <th>71</th>\n",
       "      <td>17512</td>\n",
       "      <td>EU plans Brexit summit gesture, May hints on cash</td>\n",
       "      <td>Britain will be offered a goodwill gesture at ...</td>\n",
       "      <td>worldnews</td>\n",
       "      <td>October 13, 2017</td>\n",
       "      <td>False</td>\n",
       "    </tr>\n",
       "  </tbody>\n",
       "</table>\n",
       "</div>"
      ],
      "text/plain": [
       "       id                                              title  \\\n",
       "0    2619  Ex-CIA head says Trump remarks on Russia inter...   \n",
       "1   16043  YOU WON’T BELIEVE HIS PUNISHMENT! HISPANIC STO...   \n",
       "21  20770  SHAMEFUL! AIR FORCE VETERAN Ousted From Collea...   \n",
       "41   4159  T-shirts Were Sold Outside Bills Game With Rif...   \n",
       "46  11158  COLLEGE SNOWFLAKES FREAK OUT! “Feel Unsafe” Ov...   \n",
       "50   8626  Donna Brazile DESTROYS Palin For Blaming Her W...   \n",
       "63   3060  George Takei Just F*cking HUMILIATED Trump Ove...   \n",
       "64   4034  U.S. FCC chief unveils plan to scrap Obama-era...   \n",
       "65   1686  WATCH: Jake Tapper HUMILIATES Trump With The S...   \n",
       "71  17512  EU plans Brexit summit gesture, May hints on cash   \n",
       "\n",
       "                                                 text          subject  \\\n",
       "0   Former CIA director John Brennan on Friday cri...     politicsNews   \n",
       "1   How did this man come to OWN this store? There...  Government News   \n",
       "21  OBAMA S AMERICA:  Why do you think people are ...        left-news   \n",
       "41  San Francisco 49ers quarterback Colin Kaeperni...             News   \n",
       "46  Notre Dame students are freaking out over Vice...         politics   \n",
       "50  Sarah Palin did something entirely expected of...             News   \n",
       "63  In case you have not heard, an addendum to the...             News   \n",
       "64  The head of the Federal Communications Commiss...     politicsNews   \n",
       "65  Donald Trump recently said that grading his fi...             News   \n",
       "71  Britain will be offered a goodwill gesture at ...        worldnews   \n",
       "\n",
       "                 date  is_fake_news  \n",
       "0      July 22, 2017          False  \n",
       "1        Jun 19, 2017          True  \n",
       "21        Apr 6, 2016          True  \n",
       "41   October 17, 2016          True  \n",
       "46       Apr 12, 2017          True  \n",
       "50   January 21, 2016          True  \n",
       "63   January 11, 2017          True  \n",
       "64    April 27, 2017          False  \n",
       "65     April 25, 2017          True  \n",
       "71  October 13, 2017          False  "
      ]
     },
     "execution_count": 14,
     "metadata": {},
     "output_type": "execute_result"
    }
   ],
   "source": [
    "# Get articles containing uppercase words\n",
    "uppercase_titles_df = df[df['title'].str.contains(r'\\b[A-Z]{2,}\\b', na=False)]\n",
    "uppercase_titles_df.head(10)"
   ]
  },
  {
   "cell_type": "markdown",
   "id": "f15d68c8",
   "metadata": {},
   "source": [
    "As we can see, few titles are not fake news though, but they are detected as such due to the presence of uppercase words. Because of this, we will create an array of keywords to filter out these cases."
   ]
  },
  {
   "cell_type": "code",
   "execution_count": 15,
   "id": "46e5a871",
   "metadata": {},
   "outputs": [
    {
     "name": "stdout",
     "output_type": "stream",
     "text": [
      "Dataset size before removing shouty titles: (12001, 6)\n"
     ]
    }
   ],
   "source": [
    "safe_keywords = [\"NASA\", \"FBI\", \"CIA\", \"USA\", \"UN\", \"EU\", \"U.S\", \"FCC\", \"NBA\", \"NFL\", \"COVID\"]\n",
    "print(\"Dataset size before removing shouty titles:\", df.shape)"
   ]
  },
  {
   "cell_type": "markdown",
   "id": "747f11b7",
   "metadata": {},
   "source": [
    "Now we are ready to remove the obvious fake news articles from the dataset, excluding the articles which contain a safe keyword. We create a function to do this, the function is able to detect whether a function is shouted, so checks if the title contains more uppercase words than lowercase words or there are more than 2 uppercase words in the title."
   ]
  },
  {
   "cell_type": "code",
   "execution_count": null,
   "id": "419f4f2c",
   "metadata": {},
   "outputs": [],
   "source": [
    "import re\n",
    "import unicodedata\n",
    "\n",
    "def normalize_text(text: str) -> str:\n",
    "    if not isinstance(text, str):\n",
    "        return \"\"\n",
    "    text = text.replace(\"’\", \"'\")\n",
    "    return unicodedata.normalize('NFKD', text).encode('ascii', 'ignore').decode('utf-8')\n",
    "\n",
    "def is_shouty_title(title: str) -> bool:\n",
    "    \"\"\"Return True if the title looks shouty (many uppercase words).\"\"\"\n",
    "    title = normalize_text(title)\n",
    "    words = re.findall(r\"[A-Za-z']+\", title)\n",
    "    uppercase_words = [w for w in words if w.isupper() and len(w) > 1]\n",
    "    uppercase_filtered = [w for w in uppercase_words if w not in safe_keywords]\n",
    "    total_words = len(words)\n",
    "    ratio = len(uppercase_filtered) / total_words if total_words > 0 else 0\n",
    "    return ratio > 0.3 or len(uppercase_filtered) >= 2 or title.isupper()\n",
    "\n",
    "escaped_keywords = [re.escape(k) for k in safe_keywords]\n",
    "pattern = r'\\b(?:' + '|'.join(escaped_keywords) + r')\\b'"
   ]
  },
  {
   "cell_type": "markdown",
   "id": "16ceee55",
   "metadata": {},
   "source": [
    "Before prooceeding with the filtering, we show a graphical representation of the shouted vs non-shouted titles in the dataset."
   ]
  },
  {
   "cell_type": "code",
   "execution_count": 17,
   "id": "7d9e7808",
   "metadata": {},
   "outputs": [
    {
     "data": {
      "image/png": "[encoded data removed]",
      "text/plain": [
       "<Figure size 1000x500 with 1 Axes>"
      ]
     },
     "metadata": {},
     "output_type": "display_data"
    }
   ],
   "source": [
    "# Before prooceeding with the filtering, we show a graphical representation of the shouted vs non-shouted titles in the dataset.\n",
    "import matplotlib.pyplot as plt\n",
    "\n",
    "df['is_shouty'] = df['title'].apply(is_shouty_title)\n",
    "\n",
    "plt.figure(figsize=(10, 5))\n",
    "plt.bar(df['is_shouty'].value_counts().index, df['is_shouty'].value_counts().values, color=['lightblue', 'salmon'])\n",
    "plt.title('Shouted vs Non-Shouted Titles')\n",
    "plt.xlabel('Is Shouty')\n",
    "plt.ylabel('Count')\n",
    "plt.xticks(ticks=[0, 1], labels=['Non-Shouty', 'Shouty'])\n",
    "plt.show()"
   ]
  },
  {
   "cell_type": "markdown",
   "id": "fa55d053",
   "metadata": {},
   "source": [
    "As we can see, there are not many shouted titles in the dataset, but to guarantee a proper evaluation of the models, we will remove them. The methodology will get randomly some articles from the dataset, so removing these shouted titles will avoid bias in the evaluation."
   ]
  },
  {
   "cell_type": "code",
   "execution_count": 24,
   "id": "505a8367",
   "metadata": {},
   "outputs": [
    {
     "data": {
      "text/html": [
       "<div>\n",
       "<style scoped>\n",
       "    .dataframe tbody tr th:only-of-type {\n",
       "        vertical-align: middle;\n",
       "    }\n",
       "\n",
       "    .dataframe tbody tr th {\n",
       "        vertical-align: top;\n",
       "    }\n",
       "\n",
       "    .dataframe thead th {\n",
       "        text-align: right;\n",
       "    }\n",
       "</style>\n",
       "<table border=\"1\" class=\"dataframe\">\n",
       "  <thead>\n",
       "    <tr style=\"text-align: right;\">\n",
       "      <th></th>\n",
       "      <th>id</th>\n",
       "      <th>title</th>\n",
       "      <th>text</th>\n",
       "      <th>subject</th>\n",
       "      <th>date</th>\n",
       "      <th>is_fake_news</th>\n",
       "    </tr>\n",
       "  </thead>\n",
       "  <tbody>\n",
       "    <tr>\n",
       "      <th>0</th>\n",
       "      <td>2619</td>\n",
       "      <td>Ex-CIA head says Trump remarks on Russia inter...</td>\n",
       "      <td>Former CIA director John Brennan on Friday cri...</td>\n",
       "      <td>politicsNews</td>\n",
       "      <td>July 22, 2017</td>\n",
       "      <td>False</td>\n",
       "    </tr>\n",
       "    <tr>\n",
       "      <th>2</th>\n",
       "      <td>876</td>\n",
       "      <td>Federal Reserve governor Powell's policy views...</td>\n",
       "      <td>President Donald Trump on Thursday tapped Fede...</td>\n",
       "      <td>politicsNews</td>\n",
       "      <td>November 2, 2017</td>\n",
       "      <td>False</td>\n",
       "    </tr>\n",
       "    <tr>\n",
       "      <th>6</th>\n",
       "      <td>270</td>\n",
       "      <td>Country Guitarist Who Survived Vegas Shooting ...</td>\n",
       "      <td>Caleb Keeter, a lifelong proponent of the Seco...</td>\n",
       "      <td>News</td>\n",
       "      <td>October 2, 2017</td>\n",
       "      <td>True</td>\n",
       "    </tr>\n",
       "    <tr>\n",
       "      <th>12</th>\n",
       "      <td>14878</td>\n",
       "      <td>Obama And Kerry Exposed: Secret Side Deals Wit...</td>\n",
       "      <td>Bravo! These two great Americans make me have ...</td>\n",
       "      <td>politics</td>\n",
       "      <td>Nov 27, 2015</td>\n",
       "      <td>True</td>\n",
       "    </tr>\n",
       "    <tr>\n",
       "      <th>13</th>\n",
       "      <td>1560</td>\n",
       "      <td>Ex-N.Y. state senate leader's corruption convi...</td>\n",
       "      <td>A U.S. appeals court on Tuesday threw out the ...</td>\n",
       "      <td>politicsNews</td>\n",
       "      <td>September 26, 2017</td>\n",
       "      <td>False</td>\n",
       "    </tr>\n",
       "    <tr>\n",
       "      <th>15</th>\n",
       "      <td>15262</td>\n",
       "      <td>Trump's stop in Vietnam a poignant one for U.S...</td>\n",
       "      <td>Whether they like President Donald Trump or no...</td>\n",
       "      <td>worldnews</td>\n",
       "      <td>November 9, 2017</td>\n",
       "      <td>False</td>\n",
       "    </tr>\n",
       "    <tr>\n",
       "      <th>16</th>\n",
       "      <td>6587</td>\n",
       "      <td>Trump 'arms race' comment sows more doubt on n...</td>\n",
       "      <td>U.S. President-elect Donald Trump sowed more d...</td>\n",
       "      <td>politicsNews</td>\n",
       "      <td>December 22, 2016</td>\n",
       "      <td>False</td>\n",
       "    </tr>\n",
       "    <tr>\n",
       "      <th>22</th>\n",
       "      <td>20860</td>\n",
       "      <td>Hashtag politics: Merkel tries to get in with ...</td>\n",
       "      <td>After 12 years in power, Chancellor Angela Mer...</td>\n",
       "      <td>worldnews</td>\n",
       "      <td>September 6, 2017</td>\n",
       "      <td>False</td>\n",
       "    </tr>\n",
       "    <tr>\n",
       "      <th>23</th>\n",
       "      <td>5327</td>\n",
       "      <td>Progressive Champion Elizabeth Warren Will Del...</td>\n",
       "      <td>The Democratic Party is poised to have a conve...</td>\n",
       "      <td>News</td>\n",
       "      <td>July 25, 2016</td>\n",
       "      <td>True</td>\n",
       "    </tr>\n",
       "    <tr>\n",
       "      <th>24</th>\n",
       "      <td>12539</td>\n",
       "      <td>Iran will treat jailed aid worker as Iranian c...</td>\n",
       "      <td>Iran will treat a British-Iranian aid worker a...</td>\n",
       "      <td>worldnews</td>\n",
       "      <td>December 11, 2017</td>\n",
       "      <td>False</td>\n",
       "    </tr>\n",
       "  </tbody>\n",
       "</table>\n",
       "</div>"
      ],
      "text/plain": [
       "       id                                              title  \\\n",
       "0    2619  Ex-CIA head says Trump remarks on Russia inter...   \n",
       "2     876  Federal Reserve governor Powell's policy views...   \n",
       "6     270  Country Guitarist Who Survived Vegas Shooting ...   \n",
       "12  14878  Obama And Kerry Exposed: Secret Side Deals Wit...   \n",
       "13   1560  Ex-N.Y. state senate leader's corruption convi...   \n",
       "15  15262  Trump's stop in Vietnam a poignant one for U.S...   \n",
       "16   6587  Trump 'arms race' comment sows more doubt on n...   \n",
       "22  20860  Hashtag politics: Merkel tries to get in with ...   \n",
       "23   5327  Progressive Champion Elizabeth Warren Will Del...   \n",
       "24  12539  Iran will treat jailed aid worker as Iranian c...   \n",
       "\n",
       "                                                 text       subject  \\\n",
       "0   Former CIA director John Brennan on Friday cri...  politicsNews   \n",
       "2   President Donald Trump on Thursday tapped Fede...  politicsNews   \n",
       "6   Caleb Keeter, a lifelong proponent of the Seco...          News   \n",
       "12  Bravo! These two great Americans make me have ...      politics   \n",
       "13  A U.S. appeals court on Tuesday threw out the ...  politicsNews   \n",
       "15  Whether they like President Donald Trump or no...     worldnews   \n",
       "16  U.S. President-elect Donald Trump sowed more d...  politicsNews   \n",
       "22  After 12 years in power, Chancellor Angela Mer...     worldnews   \n",
       "23  The Democratic Party is poised to have a conve...          News   \n",
       "24  Iran will treat a British-Iranian aid worker a...     worldnews   \n",
       "\n",
       "                   date  is_fake_news  \n",
       "0        July 22, 2017          False  \n",
       "2     November 2, 2017          False  \n",
       "6       October 2, 2017          True  \n",
       "12         Nov 27, 2015          True  \n",
       "13  September 26, 2017          False  \n",
       "15    November 9, 2017          False  \n",
       "16   December 22, 2016          False  \n",
       "22   September 6, 2017          False  \n",
       "23        July 25, 2016          True  \n",
       "24   December 11, 2017          False  "
      ]
     },
     "execution_count": 24,
     "metadata": {},
     "output_type": "execute_result"
    }
   ],
   "source": [
    "df['is_shouty'] = df['title'].apply(is_shouty_title)\n",
    "df = df[~df['is_shouty']].copy()\n",
    "df.drop(columns=['is_shouty'], inplace=True)\n",
    "\n",
    "df.head(10)"
   ]
  },
  {
   "cell_type": "markdown",
   "id": "78db03dd",
   "metadata": {},
   "source": [
    "Let's count how many articles remain after this filtering."
   ]
  },
  {
   "cell_type": "code",
   "execution_count": 19,
   "id": "719c1ad9",
   "metadata": {},
   "outputs": [
    {
     "data": {
      "text/plain": [
       "(8444, 6)"
      ]
     },
     "execution_count": 19,
     "metadata": {},
     "output_type": "execute_result"
    }
   ],
   "source": [
    "df.shape"
   ]
  },
  {
   "cell_type": "markdown",
   "id": "01645d2c",
   "metadata": {},
   "source": [
    "In this way, we have removed all the obvious fake news articles from the dataset. This assures a cleaner dataset for the training and evaluation of the models, in order to check whether they are able to detect fake news in a more subtle way."
   ]
  },
  {
   "cell_type": "markdown",
   "id": "aceaa9aa",
   "metadata": {},
   "source": [
    "### 🧾 Number of true vs fake news"
   ]
  },
  {
   "cell_type": "markdown",
   "id": "42ff35a4",
   "metadata": {},
   "source": [
    "We can check the number of true vs fake news in the dataset, in order to see if the dataset is balanced or not."
   ]
  },
  {
   "cell_type": "code",
   "execution_count": 20,
   "id": "ad701376",
   "metadata": {},
   "outputs": [
    {
     "name": "stdout",
     "output_type": "stream",
     "text": [
      "Number of real news articles: 5817 (68.89%)\n",
      "Number of fake news articles: 2627 (31.11%)\n"
     ]
    }
   ],
   "source": [
    "real_news_count = df['is_fake_news'].value_counts()[False]\n",
    "fake_news_count = df['is_fake_news'].value_counts()[True]\n",
    "real_news_percent = (real_news_count / (real_news_count + fake_news_count)) * 100\n",
    "fake_news_percent = (fake_news_count / (real_news_count + fake_news_count)) * 100\n",
    "print(\"Number of real news articles:\", real_news_count, \"({:.2f}%)\".format(real_news_percent))\n",
    "print(\"Number of fake news articles:\", fake_news_count, \"({:.2f}%)\".format(fake_news_percent))\n"
   ]
  },
  {
   "cell_type": "markdown",
   "id": "b6cf8c3a",
   "metadata": {},
   "source": [
    "Here a graphical representation of the number of true vs fake news articles, to show if the dataset is balanced or not."
   ]
  },
  {
   "cell_type": "code",
   "execution_count": 21,
   "id": "75b1b008",
   "metadata": {},
   "outputs": [
    {
     "data": {
      "image/png": "[encoded data removed]",
      "text/plain": [
       "<Figure size 640x480 with 1 Axes>"
      ]
     },
     "metadata": {},
     "output_type": "display_data"
    }
   ],
   "source": [
    "import matplotlib.pyplot as plt\n",
    "\n",
    "df[\"is_fake_news\"].value_counts().plot(kind=\"bar\", color=[\"skyblue\", \"salmon\"])\n",
    "plt.title(\"Distribution of Real vs Fake News\")\n",
    "plt.xlabel(\"Is Fake News\")\n",
    "plt.ylabel(\"Count\")\n",
    "plt.show()"
   ]
  },
  {
   "cell_type": "markdown",
   "id": "94094fb6",
   "metadata": {},
   "source": [
    "We can see that the dataset is not balanced, after the filtering, lot of fake news with obvious titles have been removed. In this moment, the dataset contains few fake news, which will be usefult to our purpose of training and evaluating the models to detect fake news in a more subtle way."
   ]
  },
  {
   "cell_type": "markdown",
   "id": "13982006",
   "metadata": {},
   "source": [
    "### 🧾 Subject of the articles\n",
    "We can check the subject of the articles in the dataset, in order to see which topics cover the dataset."
   ]
  },
  {
   "cell_type": "code",
   "execution_count": 22,
   "id": "6d4d45b9",
   "metadata": {},
   "outputs": [
    {
     "data": {
      "text/plain": [
       "Text(0.5, 1.0, 'Distribution of Article Subjects')"
      ]
     },
     "execution_count": 22,
     "metadata": {},
     "output_type": "execute_result"
    },
    {
     "data": {
      "image/png": "[encoded data removed]",
      "text/plain": [
       "<Figure size 640x480 with 1 Axes>"
      ]
     },
     "metadata": {},
     "output_type": "display_data"
    }
   ],
   "source": [
    "import matplotlib.pyplot as plt\n",
    "\n",
    "df[\"subject\"].value_counts().plot(kind=\"bar\", color=\"lightgreen\")\n",
    "plt.title(\"Distribution of Article Subjects\")"
   ]
  },
  {
   "cell_type": "markdown",
   "id": "bec39e95",
   "metadata": {},
   "source": [
    "Most of the articles in the dataset are about politics. Other subjects are pretty low, as long as the filter removed every obvious fake news articles."
   ]
  },
  {
   "cell_type": "markdown",
   "id": "2125c9a3",
   "metadata": {},
   "source": [
    "### 🧾 Conclusion and Main outcomes\n",
    "In this notebook, we have explored the Fake-News-Detection-dataset. We have done following operations to clean the dataset:\n",
    "- Removed duplicate rows\n",
    "- Removed articles with a text length smaller than the average length of all articles\n",
    "- Checked for missing values\n",
    "- Removed obvious fake news articles based on their titles\n",
    "- Analyzed the balance of true vs fake news articles\n",
    "The dataset is now ready to be used for the evaluation of the chatbots 😊 ."
   ]
  },
  {
   "cell_type": "code",
   "execution_count": 23,
   "id": "65db06a2",
   "metadata": {},
   "outputs": [],
   "source": [
    "import os\n",
    "os.makedirs(\"csv_files\", exist_ok=True)\n",
    "df.to_pickle(os.path.join(\"csv_files\", \"clean_fake_news.pkl\"))"
   ]
  },
  {
   "cell_type": "markdown",
   "id": "cfb5d608",
   "metadata": {},
   "source": [
    "The main outcomes of this exploratory analysis are:\n",
    "- The dataset contains a balanced number of true and fake news articles.\n",
    "- Most of the articles in the dataset are about politics."
   ]
  }
 ],
 "metadata": {
  "kernelspec": {
   "display_name": "Python 3",
   "language": "python",
   "name": "python3"
  },
  "language_info": {
   "codemirror_mode": {
    "name": "ipython",
    "version": 3
   },
   "file_extension": ".py",
   "mimetype": "text/x-python",
   "name": "python",
   "nbconvert_exporter": "python",
   "pygments_lexer": "ipython3",
   "version": "3.12.2"
  }
 },
 "nbformat": 4,
 "nbformat_minor": 5
}
