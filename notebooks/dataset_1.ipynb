{
 "cells": [
  {
   "cell_type": "markdown",
   "id": "eb7f89ef",
   "metadata": {},
   "source": [
    "## Exploratory analysis of the [Fake-News-Detection-dataset](https://huggingface.co/datasets/Pulk17/Fake-News-Detection-dataset)"
   ]
  },
  {
   "cell_type": "code",
   "execution_count": null,
   "id": "57a70a0d",
   "metadata": {},
   "outputs": [],
   "source": [
    "import pandas as pd\n",
    "from datasets import load_dataset\n",
    "from typing import cast\n",
    "\n",
    "# https://huggingface.co/datasets/Pulk17/Fake-News-Detection-dataset\n",
    "ds = load_dataset(\"Pulk17/Fake-News-Detection-dataset\", split=\"train\")\n",
    "df = pd.read_csv(\"hf://datasets/Pulk17/Fake-News-Detection-dataset/train.tsv\", sep=\"\\t\")"
   ]
  },
  {
   "cell_type": "markdown",
   "id": "ed65b0bf",
   "metadata": {},
   "source": [
    "### Size of the dataset (rows and columns)"
   ]
  },
  {
   "cell_type": "code",
   "execution_count": 30,
   "id": "07c73072",
   "metadata": {},
   "outputs": [
    {
     "name": "stdout",
     "output_type": "stream",
     "text": [
      "Size: (30000, 6)\n"
     ]
    }
   ],
   "source": [
    "print(\"Size:\", df.shape)"
   ]
  },
  {
   "cell_type": "markdown",
   "id": "fdc8b29a",
   "metadata": {},
   "source": [
    "### Columns description in the dataset"
   ]
  },
  {
   "cell_type": "code",
   "execution_count": 43,
   "id": "bdc040dd",
   "metadata": {},
   "outputs": [
    {
     "data": {
      "text/html": [
       "<style type=\"text/css\">\n",
       "#T_2df17 th {\n",
       "  text-align: left;\n",
       "}\n",
       "#T_2df17 td {\n",
       "  text-align: left;\n",
       "}\n",
       "</style>\n",
       "<table id=\"T_2df17\">\n",
       "  <thead>\n",
       "    <tr>\n",
       "      <th class=\"blank level0\" >&nbsp;</th>\n",
       "      <th id=\"T_2df17_level0_col0\" class=\"col_heading level0 col0\" >Column name</th>\n",
       "      <th id=\"T_2df17_level0_col1\" class=\"col_heading level0 col1\" >Description</th>\n",
       "    </tr>\n",
       "  </thead>\n",
       "  <tbody>\n",
       "    <tr>\n",
       "      <th id=\"T_2df17_level0_row0\" class=\"row_heading level0 row0\" >1</th>\n",
       "      <td id=\"T_2df17_row0_col0\" class=\"data row0 col0\" >Unnamed: 0</td>\n",
       "      <td id=\"T_2df17_row0_col1\" class=\"data row0 col1\" >The unique identifier for each news article.</td>\n",
       "    </tr>\n",
       "    <tr>\n",
       "      <th id=\"T_2df17_level0_row1\" class=\"row_heading level0 row1\" >2</th>\n",
       "      <td id=\"T_2df17_row1_col0\" class=\"data row1 col0\" >title</td>\n",
       "      <td id=\"T_2df17_row1_col1\" class=\"data row1 col1\" >The title of the news article.</td>\n",
       "    </tr>\n",
       "    <tr>\n",
       "      <th id=\"T_2df17_level0_row2\" class=\"row_heading level0 row2\" >3</th>\n",
       "      <td id=\"T_2df17_row2_col0\" class=\"data row2 col0\" >text</td>\n",
       "      <td id=\"T_2df17_row2_col1\" class=\"data row2 col1\" >The content of the news article.</td>\n",
       "    </tr>\n",
       "    <tr>\n",
       "      <th id=\"T_2df17_level0_row3\" class=\"row_heading level0 row3\" >4</th>\n",
       "      <td id=\"T_2df17_row3_col0\" class=\"data row3 col0\" >subject</td>\n",
       "      <td id=\"T_2df17_row3_col1\" class=\"data row3 col1\" >The subject indicates the category of the news article.</td>\n",
       "    </tr>\n",
       "    <tr>\n",
       "      <th id=\"T_2df17_level0_row4\" class=\"row_heading level0 row4\" >5</th>\n",
       "      <td id=\"T_2df17_row4_col0\" class=\"data row4 col0\" >date</td>\n",
       "      <td id=\"T_2df17_row4_col1\" class=\"data row4 col1\" >The publication date of the news article.</td>\n",
       "    </tr>\n",
       "    <tr>\n",
       "      <th id=\"T_2df17_level0_row5\" class=\"row_heading level0 row5\" >6</th>\n",
       "      <td id=\"T_2df17_row5_col0\" class=\"data row5 col0\" >label</td>\n",
       "      <td id=\"T_2df17_row5_col1\" class=\"data row5 col1\" >The label indicating whether the news article is real (1) or fake (0).</td>\n",
       "    </tr>\n",
       "  </tbody>\n",
       "</table>\n"
      ],
      "text/plain": [
       "<pandas.io.formats.style.Styler at 0x21c16ccbbc0>"
      ]
     },
     "execution_count": 43,
     "metadata": {},
     "output_type": "execute_result"
    }
   ],
   "source": [
    "i = 0   \n",
    "descriptions = [\n",
    "    \"The unique identifier for each news article.\",\n",
    "    \"The title of the news article.\",\n",
    "    \"The content of the news article.\",\n",
    "    \"The subject indicates the category of the news article.\",\n",
    "    \"The publication date of the news article.\",\n",
    "    \"The label indicating whether the news article is real (1) or fake (0).\"\n",
    "]\n",
    "    \n",
    "df_description = pd.DataFrame({\n",
    "    \"Column name\": df.columns,\n",
    "    \"Description\": descriptions\n",
    "})\n",
    "\n",
    "df_description.index = df_description.index + 1  # Start index at 1\n",
    "\n",
    "df_description.style.set_table_styles([\n",
    "    {'selector': 'th',\n",
    "     'props': [('text-align', 'left')]},          # allinea header\n",
    "    {'selector': 'td',\n",
    "     'props': [('text-align', 'left')]}           # allinea celle\n",
    "])"
   ]
  },
  {
   "cell_type": "markdown",
   "id": "aceaa9aa",
   "metadata": {},
   "source": [
    "### Number of true vs fake news"
   ]
  },
  {
   "cell_type": "code",
   "execution_count": 50,
   "id": "ad701376",
   "metadata": {},
   "outputs": [
    {
     "data": {
      "text/html": [
       "<style type=\"text/css\">\n",
       "#T_bbb9d th {\n",
       "  text-align: left;\n",
       "}\n",
       "#T_bbb9d td {\n",
       "  text-align: left;\n",
       "}\n",
       "</style>\n",
       "<table id=\"T_bbb9d\">\n",
       "  <thead>\n",
       "    <tr>\n",
       "      <th class=\"blank level0\" >&nbsp;</th>\n",
       "      <th id=\"T_bbb9d_level0_col0\" class=\"col_heading level0 col0\" >Type of News</th>\n",
       "      <th id=\"T_bbb9d_level0_col1\" class=\"col_heading level0 col1\" >Count</th>\n",
       "      <th id=\"T_bbb9d_level0_col2\" class=\"col_heading level0 col2\" >Percentage</th>\n",
       "    </tr>\n",
       "  </thead>\n",
       "  <tbody>\n",
       "    <tr>\n",
       "      <th id=\"T_bbb9d_level0_row0\" class=\"row_heading level0 row0\" >0</th>\n",
       "      <td id=\"T_bbb9d_row0_col0\" class=\"data row0 col0\" >Real News</td>\n",
       "      <td id=\"T_bbb9d_row0_col1\" class=\"data row0 col1\" >14522</td>\n",
       "      <td id=\"T_bbb9d_row0_col2\" class=\"data row0 col2\" >48.41%</td>\n",
       "    </tr>\n",
       "    <tr>\n",
       "      <th id=\"T_bbb9d_level0_row1\" class=\"row_heading level0 row1\" >1</th>\n",
       "      <td id=\"T_bbb9d_row1_col0\" class=\"data row1 col0\" >Fake News</td>\n",
       "      <td id=\"T_bbb9d_row1_col1\" class=\"data row1 col1\" >15478</td>\n",
       "      <td id=\"T_bbb9d_row1_col2\" class=\"data row1 col2\" >51.59%</td>\n",
       "    </tr>\n",
       "  </tbody>\n",
       "</table>\n"
      ],
      "text/plain": [
       "<pandas.io.formats.style.Styler at 0x21c05ffbaa0>"
      ]
     },
     "execution_count": 50,
     "metadata": {},
     "output_type": "execute_result"
    }
   ],
   "source": [
    "real_news = ds.filter(lambda x: x[\"label\"] == 1)\n",
    "fake_news = ds.filter(lambda x: x[\"label\"] == 0)\n",
    "percent_real = (len(real_news) / len(ds)) * 100\n",
    "percent_fake = (len(fake_news) / len(ds)) * 100\n",
    "\n",
    "df_news_count = pd.DataFrame({\n",
    "    \"Type of News\": [\"Real News\", \"Fake News\"],\n",
    "    \"Count\": [len(real_news), len(fake_news)],\n",
    "    \"Percentage\": [f\"{percent_real:.2f}%\", f\"{percent_fake:.2f}%\"]\n",
    "})\n",
    "\n",
    "df_news_count.style.set_table_styles([\n",
    "    {'selector': 'th',\n",
    "     'props': [('text-align', 'left')]},          # allinea header\n",
    "    {'selector': 'td',\n",
    "     'props': [('text-align', 'left')]}           # allinea celle\n",
    "])\n",
    "\n"
   ]
  },
  {
   "cell_type": "markdown",
   "id": "ececf29d",
   "metadata": {},
   "source": [
    "### Duplicates in the dataset + example"
   ]
  },
  {
   "cell_type": "code",
   "execution_count": 58,
   "id": "0b66399b",
   "metadata": {},
   "outputs": [
    {
     "name": "stdout",
     "output_type": "stream",
     "text": [
      "Number of duplicate rows based on 'title' and 'text': 5196\n"
     ]
    },
    {
     "data": {
      "text/html": [
       "<div>\n",
       "<style scoped>\n",
       "    .dataframe tbody tr th:only-of-type {\n",
       "        vertical-align: middle;\n",
       "    }\n",
       "\n",
       "    .dataframe tbody tr th {\n",
       "        vertical-align: top;\n",
       "    }\n",
       "\n",
       "    .dataframe thead th {\n",
       "        text-align: right;\n",
       "    }\n",
       "</style>\n",
       "<table border=\"1\" class=\"dataframe\">\n",
       "  <thead>\n",
       "    <tr style=\"text-align: right;\">\n",
       "      <th></th>\n",
       "      <th>Unnamed: 0</th>\n",
       "      <th>title</th>\n",
       "      <th>text</th>\n",
       "      <th>subject</th>\n",
       "      <th>date</th>\n",
       "      <th>label</th>\n",
       "    </tr>\n",
       "  </thead>\n",
       "  <tbody>\n",
       "    <tr>\n",
       "      <th>0</th>\n",
       "      <td>16043</td>\n",
       "      <td>YOU WON’T BELIEVE HIS PUNISHMENT! HISPANIC STO...</td>\n",
       "      <td>How did this man come to OWN this store? There...</td>\n",
       "      <td>Government News</td>\n",
       "      <td>Jun 19, 2017</td>\n",
       "      <td>0</td>\n",
       "    </tr>\n",
       "    <tr>\n",
       "      <th>1</th>\n",
       "      <td>18464</td>\n",
       "      <td>YOU WON’T BELIEVE HIS PUNISHMENT! HISPANIC STO...</td>\n",
       "      <td>How did this man come to OWN this store? There...</td>\n",
       "      <td>left-news</td>\n",
       "      <td>Jun 19, 2017</td>\n",
       "      <td>0</td>\n",
       "    </tr>\n",
       "  </tbody>\n",
       "</table>\n",
       "</div>"
      ],
      "text/plain": [
       "   Unnamed: 0                                              title  \\\n",
       "0       16043  YOU WON’T BELIEVE HIS PUNISHMENT! HISPANIC STO...   \n",
       "1       18464  YOU WON’T BELIEVE HIS PUNISHMENT! HISPANIC STO...   \n",
       "\n",
       "                                                text          subject  \\\n",
       "0  How did this man come to OWN this store? There...  Government News   \n",
       "1  How did this man come to OWN this store? There...        left-news   \n",
       "\n",
       "           date  label  \n",
       "0  Jun 19, 2017      0  \n",
       "1  Jun 19, 2017      0  "
      ]
     },
     "execution_count": 58,
     "metadata": {},
     "output_type": "execute_result"
    }
   ],
   "source": [
    "from pandasql import sqldf\n",
    "\n",
    "df_duplicates = df[df.duplicated(subset=['title', 'text'], keep=False)]\n",
    "print(\"Number of duplicate rows based on 'title' and 'text':\", len(df_duplicates))\n",
    "\n",
    "q = \"SELECT * FROM df WHERE title = 'YOU WON’T BELIEVE HIS PUNISHMENT! HISPANIC STORE OWNER Swindles Tax Payers Out Of $1,116,924.27 In Latest Food Stamp Scam'\"\n",
    "sqldf(q, globals())"
   ]
  }
 ],
 "metadata": {
  "kernelspec": {
   "display_name": "Python 3",
   "language": "python",
   "name": "python3"
  },
  "language_info": {
   "codemirror_mode": {
    "name": "ipython",
    "version": 3
   },
   "file_extension": ".py",
   "mimetype": "text/x-python",
   "name": "python",
   "nbconvert_exporter": "python",
   "pygments_lexer": "ipython3",
   "version": "3.12.2"
  }
 },
 "nbformat": 4,
 "nbformat_minor": 5
}
